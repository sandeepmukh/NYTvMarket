{
 "cells": [
  {
   "cell_type": "markdown",
   "metadata": {},
   "source": [
    "# Data Cleaning\n",
    "city names source: https://simplemaps.com/data/us-cities"
   ]
  },
  {
   "cell_type": "code",
   "execution_count": 150,
   "metadata": {},
   "outputs": [],
   "source": [
    "import os\n",
    "import json\n",
    "import time\n",
    "import requests\n",
    "import datetime\n",
    "import dateutil\n",
    "import pandas as pd\n",
    "import glob\n",
    "import string\n",
    "import matplotlib.pyplot as plt\n",
    "from dateutil.relativedelta import relativedelta"
   ]
  },
  {
   "cell_type": "code",
   "execution_count": 129,
   "metadata": {},
   "outputs": [],
   "source": [
    "names = pd.read_csv(\"./Data/names.csv\", encoding = \"ISO-8859-1\")\n",
    "locations = pd.read_csv(\"./Data/uscities.csv\")\n",
    "articles = pd.read_csv(\"./headlines/NYTData.csv\")\n",
    "countries = pd.read_csv(\"./Data/countries.csv\")"
   ]
  },
  {
   "cell_type": "code",
   "execution_count": 130,
   "metadata": {},
   "outputs": [
    {
     "name": "stdout",
     "output_type": "stream",
     "text": [
      "25528\n"
     ]
    },
    {
     "data": {
      "text/html": [
       "<div>\n",
       "<style scoped>\n",
       "    .dataframe tbody tr th:only-of-type {\n",
       "        vertical-align: middle;\n",
       "    }\n",
       "\n",
       "    .dataframe tbody tr th {\n",
       "        vertical-align: top;\n",
       "    }\n",
       "\n",
       "    .dataframe thead th {\n",
       "        text-align: right;\n",
       "    }\n",
       "</style>\n",
       "<table border=\"1\" class=\"dataframe\">\n",
       "  <thead>\n",
       "    <tr style=\"text-align: right;\">\n",
       "      <th></th>\n",
       "      <th>headline</th>\n",
       "      <th>date</th>\n",
       "      <th>doc_type</th>\n",
       "      <th>material_type</th>\n",
       "      <th>section</th>\n",
       "      <th>keywords</th>\n",
       "    </tr>\n",
       "  </thead>\n",
       "  <tbody>\n",
       "    <tr>\n",
       "      <th>0</th>\n",
       "      <td>New York and New Jersey join a growing list of...</td>\n",
       "      <td>2020-10-01</td>\n",
       "      <td>article</td>\n",
       "      <td>News</td>\n",
       "      <td>NaN</td>\n",
       "      <td>[]</td>\n",
       "    </tr>\n",
       "    <tr>\n",
       "      <th>1</th>\n",
       "      <td>Tech Isn’t the Answer for Test Taking</td>\n",
       "      <td>2020-10-02</td>\n",
       "      <td>article</td>\n",
       "      <td>News</td>\n",
       "      <td>NaN</td>\n",
       "      <td>['Computers and the Internet', 'Social Media',...</td>\n",
       "    </tr>\n",
       "    <tr>\n",
       "      <th>2</th>\n",
       "      <td>Quotation of the Day: When Your Job Is to Ensu...</td>\n",
       "      <td>2020-10-02</td>\n",
       "      <td>article</td>\n",
       "      <td>Quote</td>\n",
       "      <td>NaN</td>\n",
       "      <td>[]</td>\n",
       "    </tr>\n",
       "    <tr>\n",
       "      <th>3</th>\n",
       "      <td>Considering a Coronavirus Divorce? You’re in G...</td>\n",
       "      <td>2020-10-01</td>\n",
       "      <td>article</td>\n",
       "      <td>Op-Ed</td>\n",
       "      <td>NaN</td>\n",
       "      <td>['Families and Family Life', 'Coronavirus (201...</td>\n",
       "    </tr>\n",
       "    <tr>\n",
       "      <th>4</th>\n",
       "      <td>How Julie Taymor Brings Visual Flair to ‘The G...</td>\n",
       "      <td>2020-10-02</td>\n",
       "      <td>article</td>\n",
       "      <td>News</td>\n",
       "      <td>NaN</td>\n",
       "      <td>['Movies']</td>\n",
       "    </tr>\n",
       "  </tbody>\n",
       "</table>\n",
       "</div>"
      ],
      "text/plain": [
       "                                            headline        date doc_type  \\\n",
       "0  New York and New Jersey join a growing list of...  2020-10-01  article   \n",
       "1              Tech Isn’t the Answer for Test Taking  2020-10-02  article   \n",
       "2  Quotation of the Day: When Your Job Is to Ensu...  2020-10-02  article   \n",
       "3  Considering a Coronavirus Divorce? You’re in G...  2020-10-01  article   \n",
       "4  How Julie Taymor Brings Visual Flair to ‘The G...  2020-10-02  article   \n",
       "\n",
       "  material_type  section                                           keywords  \n",
       "0          News      NaN                                                 []  \n",
       "1          News      NaN  ['Computers and the Internet', 'Social Media',...  \n",
       "2         Quote      NaN                                                 []  \n",
       "3         Op-Ed      NaN  ['Families and Family Life', 'Coronavirus (201...  \n",
       "4          News      NaN                                         ['Movies']  "
      ]
     },
     "execution_count": 130,
     "metadata": {},
     "output_type": "execute_result"
    }
   ],
   "source": [
    "print(len(articles))\n",
    "articles.head()\n"
   ]
  },
  {
   "cell_type": "code",
   "execution_count": 131,
   "metadata": {},
   "outputs": [],
   "source": [
    "# Taking only news articles\n",
    "articles = articles[articles[\"material_type\"] == \"News\"]\n",
    "\n",
    "# Formatting locations and creating a locationSet\n",
    "locationSet = {\"United States\"}\n",
    "# countries = countries.drop(columns=[\"Code\"])\n",
    "for country in countries.Name.values:\n",
    "    if len(country.split()) > 1:\n",
    "        locationSet.add(country.lower()) \n",
    "for location in locations.city.values:\n",
    "    if len(location.split()) > 1:\n",
    "        locationSet.add(location.lower()) \n",
    "for location in locations.state_name.values:\n",
    "    if len(location.split()) > 1:\n",
    "        locationSet.add(location.lower()) "
   ]
  },
  {
   "cell_type": "code",
   "execution_count": 132,
   "metadata": {},
   "outputs": [],
   "source": [
    "articles = articles.drop(columns=[\"doc_type\", \"material_type\", \"section\", \"keywords\"])\n",
    "articles = articles.dropna()\n",
    "names = names.drop(columns=[\"A\"])\n",
    "names = names.rename(columns = {\"Adele\":\"names\"})\n"
   ]
  },
  {
   "cell_type": "code",
   "execution_count": 134,
   "metadata": {},
   "outputs": [
    {
     "data": {
      "text/html": [
       "<div>\n",
       "<style scoped>\n",
       "    .dataframe tbody tr th:only-of-type {\n",
       "        vertical-align: middle;\n",
       "    }\n",
       "\n",
       "    .dataframe tbody tr th {\n",
       "        vertical-align: top;\n",
       "    }\n",
       "\n",
       "    .dataframe thead th {\n",
       "        text-align: right;\n",
       "    }\n",
       "</style>\n",
       "<table border=\"1\" class=\"dataframe\">\n",
       "  <thead>\n",
       "    <tr style=\"text-align: right;\">\n",
       "      <th></th>\n",
       "      <th>headline</th>\n",
       "      <th>date</th>\n",
       "    </tr>\n",
       "  </thead>\n",
       "  <tbody>\n",
       "    <tr>\n",
       "      <th>0</th>\n",
       "      <td>New York and New Jersey join a growing list of...</td>\n",
       "      <td>2020-10-01</td>\n",
       "    </tr>\n",
       "    <tr>\n",
       "      <th>1</th>\n",
       "      <td>Tech Isn’t the Answer for Test Taking</td>\n",
       "      <td>2020-10-02</td>\n",
       "    </tr>\n",
       "    <tr>\n",
       "      <th>4</th>\n",
       "      <td>How Julie Taymor Brings Visual Flair to ‘The G...</td>\n",
       "      <td>2020-10-02</td>\n",
       "    </tr>\n",
       "    <tr>\n",
       "      <th>5</th>\n",
       "      <td>Are Underhand Serves Underhanded? Tennis Is Op...</td>\n",
       "      <td>2020-10-02</td>\n",
       "    </tr>\n",
       "    <tr>\n",
       "      <th>6</th>\n",
       "      <td>Two New Movies Share a Clear Message: Don’t Fo...</td>\n",
       "      <td>2020-10-02</td>\n",
       "    </tr>\n",
       "    <tr>\n",
       "      <th>...</th>\n",
       "      <td>...</td>\n",
       "      <td>...</td>\n",
       "    </tr>\n",
       "    <tr>\n",
       "      <th>25507</th>\n",
       "      <td>Quotation of the Day: States Aren’t Ready to D...</td>\n",
       "      <td>2020-11-15</td>\n",
       "    </tr>\n",
       "    <tr>\n",
       "      <th>25508</th>\n",
       "      <td>Recipes to Alter Your Mood</td>\n",
       "      <td>2020-11-16</td>\n",
       "    </tr>\n",
       "    <tr>\n",
       "      <th>25510</th>\n",
       "      <td>Trump Administration, in Late Push, Moves to S...</td>\n",
       "      <td>2020-11-16</td>\n",
       "    </tr>\n",
       "    <tr>\n",
       "      <th>25511</th>\n",
       "      <td>‘It Was Hard Not to Eavesdrop on the Two Men a...</td>\n",
       "      <td>2020-11-15</td>\n",
       "    </tr>\n",
       "    <tr>\n",
       "      <th>25523</th>\n",
       "      <td>Take a Break From Political Comedy With These ...</td>\n",
       "      <td>2020-11-15</td>\n",
       "    </tr>\n",
       "  </tbody>\n",
       "</table>\n",
       "<p>16706 rows × 2 columns</p>\n",
       "</div>"
      ],
      "text/plain": [
       "                                                headline        date\n",
       "0      New York and New Jersey join a growing list of...  2020-10-01\n",
       "1                  Tech Isn’t the Answer for Test Taking  2020-10-02\n",
       "4      How Julie Taymor Brings Visual Flair to ‘The G...  2020-10-02\n",
       "5      Are Underhand Serves Underhanded? Tennis Is Op...  2020-10-02\n",
       "6      Two New Movies Share a Clear Message: Don’t Fo...  2020-10-02\n",
       "...                                                  ...         ...\n",
       "25507  Quotation of the Day: States Aren’t Ready to D...  2020-11-15\n",
       "25508                         Recipes to Alter Your Mood  2020-11-16\n",
       "25510  Trump Administration, in Late Push, Moves to S...  2020-11-16\n",
       "25511  ‘It Was Hard Not to Eavesdrop on the Two Men a...  2020-11-15\n",
       "25523  Take a Break From Political Comedy With These ...  2020-11-15\n",
       "\n",
       "[16706 rows x 2 columns]"
      ]
     },
     "execution_count": 134,
     "metadata": {},
     "output_type": "execute_result"
    }
   ],
   "source": [
    "# How to check is a word is in the dataframe\n",
    "# 'Adele' in names.names.values\n",
    "names.head()\n",
    "articles"
   ]
  },
  {
   "cell_type": "code",
   "execution_count": 135,
   "metadata": {},
   "outputs": [],
   "source": [
    "#Removing punctuation from headlines\n",
    "for i in range(len(articles)):\n",
    "    text = articles.iloc[i][0].translate(str.maketrans('', '', string.punctuation)).lower()\n",
    "    articles.iloc[i][0] = text"
   ]
  },
  {
   "cell_type": "code",
   "execution_count": 136,
   "metadata": {},
   "outputs": [],
   "source": [
    "#Group by every day\n",
    "articles = articles.groupby([\"date\"]).agg(lambda s: \" \".join(s))"
   ]
  },
  {
   "cell_type": "code",
   "execution_count": 137,
   "metadata": {},
   "outputs": [],
   "source": [
    "#Formatting names\n",
    "i = 0\n",
    "nameSet = {\"TESTSTRING\"}\n",
    "nameSet.remove(\"TESTSTRING\")\n",
    "for name in names.names.values:\n",
    "    names[\"names\"][i] = name.lower()\n",
    "    i += 1\n",
    "    nameSet.add(name)"
   ]
  },
  {
   "cell_type": "code",
   "execution_count": 112,
   "metadata": {},
   "outputs": [],
   "source": [
    "#Testing below\n",
    "# d = {'col1': [1, 2], 'headline': [\"hi hi hi hi hi hi\", \"potato potato potato hi hi hi hi\"]}\n",
    "# testdf = pd.DataFrame(data=d)\n",
    "# for i in range(len(testdf)):\n",
    "#     s = {}\n",
    "#     for name in nameSet:\n",
    "#         if name in testdf[\"headline\"][i]:\n",
    "#             if name in s:\n",
    "#                 s[name] += 1\n",
    "#             else:\n",
    "#                 s[name] = 1\n",
    "#             testdf[\"headline\"][i].replace(name, \"\")\n",
    "#     for name in locationSet:\n",
    "#         if name in testdf[\"headline\"][i]:\n",
    "#             if name in s:\n",
    "#                 s[name] += 1\n",
    "#             else:\n",
    "#                 s[name] = 1\n",
    "#             testdf[\"headline\"][i].replace(name, \"\")\n",
    "#     for word in testdf[\"headline\"][i].split():\n",
    "#         if word in s:\n",
    "#             s[word] += 1\n",
    "#         else:\n",
    "#             s[word] = 1\n",
    "#     testdf[\"headline\"][i] = s"
   ]
  },
  {
   "cell_type": "code",
   "execution_count": 149,
   "metadata": {},
   "outputs": [],
   "source": [
    "#Removing duplicate words from headlines and counting them\n",
    "for i in range(len(articles)):\n",
    "    s = {}\n",
    "    for name in nameSet:\n",
    "        if name in articles[\"headline\"][i]:\n",
    "            if name in s:\n",
    "                s[name] += 1\n",
    "            else:\n",
    "                s[name] = 1\n",
    "            articles[\"headline\"][i].replace(name, \"\")\n",
    "    for name in locationSet:\n",
    "        if name in articles[\"headline\"][i]:\n",
    "            if name in s:\n",
    "                s[name] += 1\n",
    "            else:\n",
    "                s[name] = 1\n",
    "            articles[\"headline\"][i].replace(name, \"\")\n",
    "    for word in articles[\"headline\"][i].split():\n",
    "        word = word.replace(\"‘\", \"\")\n",
    "        word = word.replace(\"’\", \"\")\n",
    "        if word in s:\n",
    "            s[word] += 1\n",
    "        else:\n",
    "            s[word] = 1\n",
    "    articles[\"headline\"][i] = s\n",
    "articles.to_csv(\"./data/NYTDataCleaned.csv\")"
   ]
  },
  {
   "cell_type": "code",
   "execution_count": 160,
   "metadata": {},
   "outputs": [
    {
     "data": {
      "image/png": "[encoded data removed]",
      "text/plain": [
       "<Figure size 432x288 with 1 Axes>"
      ]
     },
     "metadata": {
      "needs_background": "light"
     },
     "output_type": "display_data"
    }
   ],
   "source": [
    "D = articles.iloc[0][\"headline\"]\n",
    "plt.bar(range(len(D)), list(D.values()), align='center')\n",
    "plt.xticks(range(len(D)), list(D.keys()))\n",
    "plt.show()"
   ]
  }
 ],
 "metadata": {
  "kernelspec": {
   "display_name": "Python 3",
   "language": "python",
   "name": "python3"
  },
  "language_info": {
   "codemirror_mode": {
    "name": "ipython",
    "version": 3
   },
   "file_extension": ".py",
   "mimetype": "text/x-python",
   "name": "python",
   "nbconvert_exporter": "python",
   "pygments_lexer": "ipython3",
   "version": "3.8.3"
  }
 },
 "nbformat": 4,
 "nbformat_minor": 4
}
