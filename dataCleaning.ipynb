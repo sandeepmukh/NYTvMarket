{
 "cells": [
  {
   "cell_type": "markdown",
   "metadata": {},
   "source": [
    "# Data Cleaning and Sentiment Analysis\n",
    "Source: https://www.digitalocean.com/community/tutorials/how-to-perform-sentiment-analysis-in-python-3-using-the-natural-language-toolkit-nltk"
   ]
  },
  {
   "cell_type": "code",
   "execution_count": 205,
   "metadata": {},
   "outputs": [
    {
     "name": "stderr",
     "output_type": "stream",
     "text": [
      "[nltk_data] Downloading package punkt to\n",
      "[nltk_data]     C:\\Users\\smuke\\AppData\\Roaming\\nltk_data...\n",
      "[nltk_data]   Package punkt is already up-to-date!\n",
      "[nltk_data] Downloading package wordnet to\n",
      "[nltk_data]     C:\\Users\\smuke\\AppData\\Roaming\\nltk_data...\n",
      "[nltk_data]   Package wordnet is already up-to-date!\n",
      "[nltk_data] Downloading package averaged_perceptron_tagger to\n",
      "[nltk_data]     C:\\Users\\smuke\\AppData\\Roaming\\nltk_data...\n",
      "[nltk_data]   Package averaged_perceptron_tagger is already up-to-\n",
      "[nltk_data]       date!\n",
      "[nltk_data] Downloading package stopwords to\n",
      "[nltk_data]     C:\\Users\\smuke\\AppData\\Roaming\\nltk_data...\n",
      "[nltk_data]   Package stopwords is already up-to-date!\n"
     ]
    }
   ],
   "source": [
    "import os\n",
    "import json\n",
    "import time\n",
    "import requests\n",
    "import datetime\n",
    "import dateutil\n",
    "import numpy as np\n",
    "import pandas as pd\n",
    "import glob\n",
    "import string, re\n",
    "import nltk\n",
    "import matplotlib.pyplot as plt\n",
    "from dateutil.relativedelta import relativedelta\n",
    "nltk.download('punkt')\n",
    "nltk.download('wordnet')\n",
    "nltk.download('averaged_perceptron_tagger')\n",
    "nltk.download('stopwords')\n",
    "from nltk.tag import pos_tag\n",
    "from nltk.tokenize import word_tokenize\n",
    "from nltk.corpus import stopwords\n",
    "from nltk.stem.wordnet import WordNetLemmatizer\n",
    "from nltk.stem.porter import PorterStemmer\n",
    "from nltk import FreqDist"
   ]
  },
  {
   "cell_type": "code",
   "execution_count": 151,
   "metadata": {},
   "outputs": [],
   "source": [
    "# Read in the articles csv\n",
    "articles = pd.read_csv(\"./headlines/NYTData.csv\")\n",
    "articles = articles.drop(columns=[\"doc_type\", \"material_type\", \"section\", \"keywords\"])\n",
    "articles = articles.dropna()"
   ]
  },
  {
   "cell_type": "code",
   "execution_count": 152,
   "metadata": {},
   "outputs": [],
   "source": [
    "# How to check is a word is in the dataframe\n",
    "# 'Adele' in names.names.values\n",
    "# Create the different candidate/party dataframes\n",
    "articlesR = (articles[\"headline\"].str.contains(\"Trump|GOP|Republican|Pence\"))\n",
    "articlesR.fillna(False, inplace=True)\n",
    "articlesR = articles[articlesR]\n",
    "articlesD = (articles[\"headline\"].str.contains(\"Biden|Progressive|Democrat|Harris\"))\n",
    "articlesD.fillna(False, inplace=True)\n",
    "articlesD = articles[articlesD]\n"
   ]
  },
  {
   "cell_type": "code",
   "execution_count": 178,
   "metadata": {},
   "outputs": [],
   "source": [
    "#Removing punctuation from headlines\n",
    "def removePunctuation(articles):\n",
    "    for i in range(len(articles)):\n",
    "        headline = articles.iloc[i][0]\n",
    "        text = headline.translate(str.maketrans('', '', string.punctuation)).lower()\n",
    "        text = text.replace(\"‘\",\"\")\n",
    "        text = text.replace(\"’\",\"\")\n",
    "        text = text.replace(\"trump\", \"Trump\")\n",
    "        text = text.replace(\"Trumps\", \"Trump\")\n",
    "        articles.iloc[i][0] = text\n",
    "    return articles\n",
    "\n",
    "def groupByDate(articles):\n",
    "    articles = articles.groupby([\"date\"]).agg(lambda s: \" \".join(s))\n",
    "    return articles\n",
    "\n",
    "def tokenize(headlines):\n",
    "    return headlines.apply(lambda s: word_tokenize(s))\n",
    "\n",
    "def remove_noise(tweet_tokens, stop_words = ()):\n",
    "    '''\n",
    "    from https://www.digitalocean.com/community/tutorials/how-to-perform-sentiment-analysis-in-python-3-using-the-natural-language-toolkit-nltk\n",
    "    \n",
    "    '''\n",
    "    cleaned_tokens = []\n",
    "\n",
    "    for token, tag in pos_tag(tweet_tokens):\n",
    "        token = re.sub('http[s]?://(?:[a-zA-Z]|[0-9]|[$-_@.&+#]|[!*\\(\\),]|'\\\n",
    "                       '(?:%[0-9a-fA-F][0-9a-fA-F]))+','', token)\n",
    "        token = re.sub(\"(@[A-Za-z0-9_]+)\",\"\", token)\n",
    "\n",
    "        if tag.startswith(\"NN\"):\n",
    "            pos = 'n'\n",
    "        elif tag.startswith('VB'):\n",
    "            pos = 'v'\n",
    "        else:\n",
    "            pos = 'a'\n",
    "\n",
    "        lemmatizer = WordNetLemmatizer()\n",
    "        token = lemmatizer.lemmatize(token, pos)\n",
    "\n",
    "        if len(token) > 0 and token not in string.punctuation and token.lower() not in stop_words:\n",
    "            cleaned_tokens.append(token.lower())\n",
    "    return cleaned_tokens\n",
    "\n",
    "def all_words_generator(tokenslst):\n",
    "    for tokens in tokenslst:\n",
    "        for token in tokens:\n",
    "            yield token"
   ]
  },
  {
   "cell_type": "code",
   "execution_count": 154,
   "metadata": {},
   "outputs": [
    {
     "name": "stderr",
     "output_type": "stream",
     "text": [
      "<ipython-input-154-ec83fadccec4>:4: SettingWithCopyWarning: \n",
      "A value is trying to be set on a copy of a slice from a DataFrame.\n",
      "Try using .loc[row_indexer,col_indexer] = value instead\n",
      "\n",
      "See the caveats in the documentation: https://pandas.pydata.org/pandas-docs/stable/user_guide/indexing.html#returning-a-view-versus-a-copy\n",
      "  articlesR[\"tokens\"] = tokenize(articlesR[\"headline\"])\n",
      "<ipython-input-154-ec83fadccec4>:5: SettingWithCopyWarning: \n",
      "A value is trying to be set on a copy of a slice from a DataFrame.\n",
      "Try using .loc[row_indexer,col_indexer] = value instead\n",
      "\n",
      "See the caveats in the documentation: https://pandas.pydata.org/pandas-docs/stable/user_guide/indexing.html#returning-a-view-versus-a-copy\n",
      "  articlesD[\"tokens\"] = tokenize(articlesD[\"headline\"])\n"
     ]
    },
    {
     "data": {
      "text/html": [
       "<div>\n",
       "<style scoped>\n",
       "    .dataframe tbody tr th:only-of-type {\n",
       "        vertical-align: middle;\n",
       "    }\n",
       "\n",
       "    .dataframe tbody tr th {\n",
       "        vertical-align: top;\n",
       "    }\n",
       "\n",
       "    .dataframe thead th {\n",
       "        text-align: right;\n",
       "    }\n",
       "</style>\n",
       "<table border=\"1\" class=\"dataframe\">\n",
       "  <thead>\n",
       "    <tr style=\"text-align: right;\">\n",
       "      <th></th>\n",
       "      <th>headline</th>\n",
       "      <th>date</th>\n",
       "      <th>tokens</th>\n",
       "    </tr>\n",
       "  </thead>\n",
       "  <tbody>\n",
       "    <tr>\n",
       "      <th>11</th>\n",
       "      <td>in pictures Trump busy week before testing pos...</td>\n",
       "      <td>2020-10-02</td>\n",
       "      <td>[in, pictures, Trump, busy, week, before, test...</td>\n",
       "    </tr>\n",
       "    <tr>\n",
       "      <th>18</th>\n",
       "      <td>a top Trump aide has tested positive for the v...</td>\n",
       "      <td>2020-10-02</td>\n",
       "      <td>[a, top, Trump, aide, has, tested, positive, f...</td>\n",
       "    </tr>\n",
       "    <tr>\n",
       "      <th>20</th>\n",
       "      <td>Trump administration opens investigation into ...</td>\n",
       "      <td>2020-10-02</td>\n",
       "      <td>[Trump, administration, opens, investigation, ...</td>\n",
       "    </tr>\n",
       "    <tr>\n",
       "      <th>38</th>\n",
       "      <td>Trump hospitalization starts to affect the cam...</td>\n",
       "      <td>2020-10-03</td>\n",
       "      <td>[Trump, hospitalization, starts, to, affect, t...</td>\n",
       "    </tr>\n",
       "    <tr>\n",
       "      <th>39</th>\n",
       "      <td>Trump covid treatments are aimed at preventing...</td>\n",
       "      <td>2020-10-03</td>\n",
       "      <td>[Trump, covid, treatments, are, aimed, at, pre...</td>\n",
       "    </tr>\n",
       "  </tbody>\n",
       "</table>\n",
       "</div>"
      ],
      "text/plain": [
       "                                             headline        date  \\\n",
       "11  in pictures Trump busy week before testing pos...  2020-10-02   \n",
       "18  a top Trump aide has tested positive for the v...  2020-10-02   \n",
       "20  Trump administration opens investigation into ...  2020-10-02   \n",
       "38  Trump hospitalization starts to affect the cam...  2020-10-03   \n",
       "39  Trump covid treatments are aimed at preventing...  2020-10-03   \n",
       "\n",
       "                                               tokens  \n",
       "11  [in, pictures, Trump, busy, week, before, test...  \n",
       "18  [a, top, Trump, aide, has, tested, positive, f...  \n",
       "20  [Trump, administration, opens, investigation, ...  \n",
       "38  [Trump, hospitalization, starts, to, affect, t...  \n",
       "39  [Trump, covid, treatments, are, aimed, at, pre...  "
      ]
     },
     "execution_count": 154,
     "metadata": {},
     "output_type": "execute_result"
    }
   ],
   "source": [
    "# Tokenize the data and remove punctuation\n",
    "articlesR = removePunctuation(articlesR)\n",
    "articlesD = removePunctuation(articlesD)\n",
    "articlesR[\"tokens\"] = tokenize(articlesR[\"headline\"])\n",
    "articlesD[\"tokens\"] = tokenize(articlesD[\"headline\"])\n",
    "articlesR.head() #Verify that the data look good"
   ]
  },
  {
   "cell_type": "code",
   "execution_count": 162,
   "metadata": {},
   "outputs": [],
   "source": [
    "#Lemmatize each headline and reset the indicies\n",
    "stop_words = stopwords.words(\"english\")\n",
    "articlesD[\"tokens\"] = articlesD[\"tokens\"].apply(lambda s: remove_noise(s, stop_words))\n",
    "articlesR[\"tokens\"] = articlesR[\"tokens\"].apply(lambda s: remove_noise(s, stop_words))\n",
    "articlesR = articlesR.reset_index()\n",
    "articlesD = articlesD.reset_index()\n"
   ]
  },
  {
   "cell_type": "code",
   "execution_count": 194,
   "metadata": {},
   "outputs": [],
   "source": [
    "# Generate the frequency lists for both sets\n",
    "demFreqList = FreqDist(all_words_generator(articlesD[\"tokens\"].tolist()))\n",
    "repFreqList = FreqDist(all_words_generator(articlesR[\"tokens\"].tolist()))"
   ]
  },
  {
   "cell_type": "code",
   "execution_count": 271,
   "metadata": {},
   "outputs": [],
   "source": [
    "# Plot top 10 frequency words for both\n",
    "rep = repFreqList.most_common(10)\n",
    "dem = demFreqList.most_common(10)\n",
    "# x, y = x.T\n",
    "# plt.hist(x)\n",
    "# x\n",
    "# repFreqList.plot.hist(grid=True,\n",
    "#                    color='#607c8e')\n",
    "# plt.hist(repFreqList)\n",
    "# plt.colorbar('#607c8e')\n",
    "# plt.title('Frequency of top 10 words for Republican/Trump Articles')\n",
    "# plt.xlabel('Counts')\n",
    "# plt.ylabel('Word')\n",
    "# plt.grid(axis='y', alpha=0.75)"
   ]
  },
  {
   "cell_type": "code",
   "execution_count": 149,
   "metadata": {},
   "outputs": [],
   "source": [
    "#Removing duplicate words from headlines and counting them\n",
    "# for i in range(len(articles)):\n",
    "#     s = {}\n",
    "#     for name in nameSet:\n",
    "#         if name in articles[\"headline\"][i]:\n",
    "#             if name in s:\n",
    "#                 s[name] += 1\n",
    "#             else:\n",
    "#                 s[name] = 1\n",
    "#             articles[\"headline\"][i].replace(name, \"\")\n",
    "#     for name in locationSet:\n",
    "#         if name in articles[\"headline\"][i]:\n",
    "#             if name in s:\n",
    "#                 s[name] += 1\n",
    "#             else:\n",
    "#                 s[name] = 1\n",
    "#             articles[\"headline\"][i].replace(name, \"\")\n",
    "#     for word in articles[\"headline\"][i].split():\n",
    "#         word = word.replace(\"‘\", \"\")\n",
    "#         word = word.replace(\"’\", \"\")\n",
    "#         if word in s:\n",
    "#             s[word] += 1\n",
    "#         else:\n",
    "#             s[word] = 1\n",
    "#     articles[\"headline\"][i] = s\n",
    "articles.to_csv(\"./data/NYTDataCleaned.csv\")"
   ]
  },
  {
   "cell_type": "code",
   "execution_count": 274,
   "metadata": {},
   "outputs": [
    {
     "data": {
      "text/plain": [
       "Text(0, 0.5, 'Number of Appearances')"
      ]
     },
     "execution_count": 274,
     "metadata": {},
     "output_type": "execute_result"
    },
    {
     "data": {
      "image/png": "[encoded data removed]",
      "text/plain": [
       "<Figure size 432x288 with 1 Axes>"
      ]
     },
     "metadata": {
      "needs_background": "light"
     },
     "output_type": "display_data"
    }
   ],
   "source": [
    "# Rep plot\n",
    "plt.bar(*zip(*dict(rep).items()), color=\"red\")\n",
    "plt.xticks(rotation=45)\n",
    "plt.title(\"Word Frequency for Republican/Trump Collection\")\n",
    "plt.xlabel(\"Word\")\n",
    "plt.ylabel(\"Number of Appearances\")"
   ]
  },
  {
   "cell_type": "code",
   "execution_count": 273,
   "metadata": {},
   "outputs": [
    {
     "data": {
      "text/plain": [
       "Text(0, 0.5, 'Number of Appearances')"
      ]
     },
     "execution_count": 273,
     "metadata": {},
     "output_type": "execute_result"
    },
    {
     "data": {
      "image/png": "[encoded data removed]",
      "text/plain": [
       "<Figure size 432x288 with 1 Axes>"
      ]
     },
     "metadata": {
      "needs_background": "light"
     },
     "output_type": "display_data"
    }
   ],
   "source": [
    "# Dem plot\n",
    "plt.bar(*zip(*dict(dem).items()), color=\"blue\")\n",
    "plt.xticks(rotation=45)\n",
    "plt.title(\"Word Frequency for Republican/Trump Collection\")\n",
    "plt.xlabel(\"Word\")\n",
    "plt.ylabel(\"Number of Appearances\")"
   ]
  }
 ],
 "metadata": {
  "kernelspec": {
   "display_name": "Python 3",
   "language": "python",
   "name": "python3"
  },
  "language_info": {
   "codemirror_mode": {
    "name": "ipython",
    "version": 3
   },
   "file_extension": ".py",
   "mimetype": "text/x-python",
   "name": "python",
   "nbconvert_exporter": "python",
   "pygments_lexer": "ipython3",
   "version": "3.8.3"
  }
 },
 "nbformat": 4,
 "nbformat_minor": 4
}
