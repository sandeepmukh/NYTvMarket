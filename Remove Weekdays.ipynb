{
 "cells": [
  {
   "cell_type": "markdown",
   "metadata": {},
   "source": [
    "Changing NYT weekdays -> weekends"
   ]
  },
  {
   "cell_type": "code",
   "execution_count": 94,
   "metadata": {},
   "outputs": [],
   "source": [
    "import pandas as pd\n",
    "import json\n",
    "from datetime import datetime\n"
   ]
  },
  {
   "cell_type": "code",
   "execution_count": 95,
   "metadata": {},
   "outputs": [],
   "source": [
    "nyt = pd.read_csv(\"NYTDataCleaned.csv\", encoding = \"ISO-8859-1\")\n"
   ]
  },
  {
   "cell_type": "code",
   "execution_count": 96,
   "metadata": {},
   "outputs": [
    {
     "data": {
      "text/plain": [
       "1"
      ]
     },
     "execution_count": 96,
     "metadata": {},
     "output_type": "execute_result"
    }
   ],
   "source": [
    "eval(nyt.iloc[1]['headline'])['central park']"
   ]
  },
  {
   "cell_type": "code",
   "execution_count": 97,
   "metadata": {
    "scrolled": true
   },
   "outputs": [
    {
     "name": "stdout",
     "output_type": "stream",
     "text": [
      "2020-10-05 00:00:00 4\n",
      "2020-10-12 00:00:00 11\n",
      "2020-10-19 00:00:00 18\n",
      "2020-10-26 00:00:00 25\n",
      "2020-11-02 00:00:00 32\n",
      "2020-11-09 00:00:00 39\n",
      "2020-11-16 00:00:00 46\n"
     ]
    }
   ],
   "source": [
    "for index, row in nyt.iterrows():\n",
    "    dictOfFrequencies = eval(row['headline'])\n",
    "    date = datetime.fromisoformat(row['date'])\n",
    "    if date.weekday() == 0:\n",
    "        #it is a Monday, create a combined dict of this day and the last two days, and set it to today\n",
    "        print(date, index)\n",
    "        #grab monday, saturday, and sundays data\n",
    "        saturdayDict = eval(nyt.loc[index-2]['headline'])\n",
    "        sundayDict = eval(nyt.loc[index-1]['headline'])\n",
    "        mondayDict = eval(row['headline'])\n",
    "        \n",
    "        #copy data from saturday and sunday onto monday\n",
    "        mondayDict.update(sundayDict)\n",
    "        mondayDict.update(saturdayDict)\n",
    "        \n",
    "        #drop rows of saturday and sunday\n",
    "        nyt = nyt.drop(index=[index-1,index-2], axis=0)\n",
    "        \n",
    "        row['headline'] = str(mondayDict)\n",
    "        \n",
    "#nyt = nyt[ datetime.fromisoformat(eval(nyt['date'])).weekday() != 5 ]\n",
    "#nyt = nyt[ datetime.fromisoformat(eval(nyt['date'])).weekday() != 6 ]\n",
    "\n"
   ]
  },
  {
   "cell_type": "code",
   "execution_count": 98,
   "metadata": {},
   "outputs": [
    {
     "data": {
      "text/html": [
       "<div>\n",
       "<style scoped>\n",
       "    .dataframe tbody tr th:only-of-type {\n",
       "        vertical-align: middle;\n",
       "    }\n",
       "\n",
       "    .dataframe tbody tr th {\n",
       "        vertical-align: top;\n",
       "    }\n",
       "\n",
       "    .dataframe thead th {\n",
       "        text-align: right;\n",
       "    }\n",
       "</style>\n",
       "<table border=\"1\" class=\"dataframe\">\n",
       "  <thead>\n",
       "    <tr style=\"text-align: right;\">\n",
       "      <th></th>\n",
       "      <th>date</th>\n",
       "      <th>headline</th>\n",
       "    </tr>\n",
       "  </thead>\n",
       "  <tbody>\n",
       "    <tr>\n",
       "      <th>0</th>\n",
       "      <td>2020-10-01</td>\n",
       "      <td>{'new jersey': 1, 'white house': 1, 'long isla...</td>\n",
       "    </tr>\n",
       "    <tr>\n",
       "      <th>1</th>\n",
       "      <td>2020-10-02</td>\n",
       "      <td>{'audubon park': 1, 'los angeles': 1, 'new jer...</td>\n",
       "    </tr>\n",
       "    <tr>\n",
       "      <th>4</th>\n",
       "      <td>2020-10-05</td>\n",
       "      <td>{'los angeles': 1, 'white house': 1, 'new york...</td>\n",
       "    </tr>\n",
       "    <tr>\n",
       "      <th>5</th>\n",
       "      <td>2020-10-06</td>\n",
       "      <td>{'south carolina': 1, 'new jersey': 1, 'white ...</td>\n",
       "    </tr>\n",
       "    <tr>\n",
       "      <th>6</th>\n",
       "      <td>2020-10-07</td>\n",
       "      <td>{'puerto rico': 1, 'notre dame': 1, 'north dak...</td>\n",
       "    </tr>\n",
       "    <tr>\n",
       "      <th>7</th>\n",
       "      <td>2020-10-08</td>\n",
       "      <td>{'dodge city': 1, 'notre dame': 1, 'white hous...</td>\n",
       "    </tr>\n",
       "    <tr>\n",
       "      <th>8</th>\n",
       "      <td>2020-10-09</td>\n",
       "      <td>{'white house': 1, 'hong kong': 1, 'rhode isla...</td>\n",
       "    </tr>\n",
       "    <tr>\n",
       "      <th>11</th>\n",
       "      <td>2020-10-12</td>\n",
       "      <td>{'madison park': 1, 'le roy': 1, 'winless': 2,...</td>\n",
       "    </tr>\n",
       "    <tr>\n",
       "      <th>12</th>\n",
       "      <td>2020-10-13</td>\n",
       "      <td>{'south carolina': 1, 'white house': 1, 'north...</td>\n",
       "    </tr>\n",
       "    <tr>\n",
       "      <th>13</th>\n",
       "      <td>2020-10-14</td>\n",
       "      <td>{'south carolina': 1, 'north carolina': 1, 'de...</td>\n",
       "    </tr>\n",
       "    <tr>\n",
       "      <th>14</th>\n",
       "      <td>2020-10-15</td>\n",
       "      <td>{'south carolina': 1, 'los angeles': 1, 'new j...</td>\n",
       "    </tr>\n",
       "    <tr>\n",
       "      <th>15</th>\n",
       "      <td>2020-10-16</td>\n",
       "      <td>{'south carolina': 1, 'los angeles': 1, 'new j...</td>\n",
       "    </tr>\n",
       "    <tr>\n",
       "      <th>18</th>\n",
       "      <td>2020-10-19</td>\n",
       "      <td>{'lincoln center': 1, 'new jersey': 1, 'new yo...</td>\n",
       "    </tr>\n",
       "    <tr>\n",
       "      <th>19</th>\n",
       "      <td>2020-10-20</td>\n",
       "      <td>{'lake charles': 1, 'san francisco': 1, 'new j...</td>\n",
       "    </tr>\n",
       "    <tr>\n",
       "      <th>20</th>\n",
       "      <td>2020-10-21</td>\n",
       "      <td>{'new hampshire': 1, 'ann arbor': 1, 'white ho...</td>\n",
       "    </tr>\n",
       "    <tr>\n",
       "      <th>21</th>\n",
       "      <td>2020-10-22</td>\n",
       "      <td>{'puerto rico': 1, 'new era': 1, 'north caroli...</td>\n",
       "    </tr>\n",
       "    <tr>\n",
       "      <th>22</th>\n",
       "      <td>2020-10-23</td>\n",
       "      <td>{'san bernardino': 1, 'new york': 1, 'edward':...</td>\n",
       "    </tr>\n",
       "    <tr>\n",
       "      <th>25</th>\n",
       "      <td>2020-10-26</td>\n",
       "      <td>{'puerto rico': 1, 'white house': 1, 'long isl...</td>\n",
       "    </tr>\n",
       "    <tr>\n",
       "      <th>26</th>\n",
       "      <td>2020-10-27</td>\n",
       "      <td>{'pearl river': 1, 'white house': 1, 'hong kon...</td>\n",
       "    </tr>\n",
       "    <tr>\n",
       "      <th>27</th>\n",
       "      <td>2020-10-28</td>\n",
       "      <td>{'san francisco': 1, 'north carolina': 1, 'new...</td>\n",
       "    </tr>\n",
       "    <tr>\n",
       "      <th>28</th>\n",
       "      <td>2020-10-29</td>\n",
       "      <td>{'new jersey': 1, 'white house': 1, 'long isla...</td>\n",
       "    </tr>\n",
       "    <tr>\n",
       "      <th>29</th>\n",
       "      <td>2020-10-30</td>\n",
       "      <td>{'grand rapids': 1, 'north carolina': 1, 'new ...</td>\n",
       "    </tr>\n",
       "    <tr>\n",
       "      <th>32</th>\n",
       "      <td>2020-11-02</td>\n",
       "      <td>{'san francisco': 1, 'sweet home': 1, 'white h...</td>\n",
       "    </tr>\n",
       "    <tr>\n",
       "      <th>33</th>\n",
       "      <td>2020-11-03</td>\n",
       "      <td>{'san francisco': 1, 'new hampshire': 1, 'sout...</td>\n",
       "    </tr>\n",
       "    <tr>\n",
       "      <th>34</th>\n",
       "      <td>2020-11-04</td>\n",
       "      <td>{'san francisco': 1, 'new hampshire': 1, 'new ...</td>\n",
       "    </tr>\n",
       "    <tr>\n",
       "      <th>35</th>\n",
       "      <td>2020-11-05</td>\n",
       "      <td>{'new jersey': 1, 'new york': 1, 'it': 12, 'ha...</td>\n",
       "    </tr>\n",
       "    <tr>\n",
       "      <th>36</th>\n",
       "      <td>2020-11-06</td>\n",
       "      <td>{'las vegas': 1, 'sag harbor': 1, 'white house...</td>\n",
       "    </tr>\n",
       "    <tr>\n",
       "      <th>39</th>\n",
       "      <td>2020-11-09</td>\n",
       "      <td>{'notre dame': 1, 'saudi arabia': 1, 'white ho...</td>\n",
       "    </tr>\n",
       "    <tr>\n",
       "      <th>40</th>\n",
       "      <td>2020-11-10</td>\n",
       "      <td>{'naval academy': 1, 'white house': 1, 'hong k...</td>\n",
       "    </tr>\n",
       "    <tr>\n",
       "      <th>41</th>\n",
       "      <td>2020-11-11</td>\n",
       "      <td>{'puerto rico': 1, 'saudi arabia': 1, 'new jer...</td>\n",
       "    </tr>\n",
       "    <tr>\n",
       "      <th>42</th>\n",
       "      <td>2020-11-12</td>\n",
       "      <td>{'winter garden': 1, 'new jersey': 1, 'white h...</td>\n",
       "    </tr>\n",
       "    <tr>\n",
       "      <th>43</th>\n",
       "      <td>2020-11-13</td>\n",
       "      <td>{'north dakota': 1, 'western sahara': 1, 'new ...</td>\n",
       "    </tr>\n",
       "    <tr>\n",
       "      <th>46</th>\n",
       "      <td>2020-11-16</td>\n",
       "      <td>{'new era': 1, 'big sky': 1, 'north dakota': 1...</td>\n",
       "    </tr>\n",
       "  </tbody>\n",
       "</table>\n",
       "</div>"
      ],
      "text/plain": [
       "          date                                           headline\n",
       "0   2020-10-01  {'new jersey': 1, 'white house': 1, 'long isla...\n",
       "1   2020-10-02  {'audubon park': 1, 'los angeles': 1, 'new jer...\n",
       "4   2020-10-05  {'los angeles': 1, 'white house': 1, 'new york...\n",
       "5   2020-10-06  {'south carolina': 1, 'new jersey': 1, 'white ...\n",
       "6   2020-10-07  {'puerto rico': 1, 'notre dame': 1, 'north dak...\n",
       "7   2020-10-08  {'dodge city': 1, 'notre dame': 1, 'white hous...\n",
       "8   2020-10-09  {'white house': 1, 'hong kong': 1, 'rhode isla...\n",
       "11  2020-10-12  {'madison park': 1, 'le roy': 1, 'winless': 2,...\n",
       "12  2020-10-13  {'south carolina': 1, 'white house': 1, 'north...\n",
       "13  2020-10-14  {'south carolina': 1, 'north carolina': 1, 'de...\n",
       "14  2020-10-15  {'south carolina': 1, 'los angeles': 1, 'new j...\n",
       "15  2020-10-16  {'south carolina': 1, 'los angeles': 1, 'new j...\n",
       "18  2020-10-19  {'lincoln center': 1, 'new jersey': 1, 'new yo...\n",
       "19  2020-10-20  {'lake charles': 1, 'san francisco': 1, 'new j...\n",
       "20  2020-10-21  {'new hampshire': 1, 'ann arbor': 1, 'white ho...\n",
       "21  2020-10-22  {'puerto rico': 1, 'new era': 1, 'north caroli...\n",
       "22  2020-10-23  {'san bernardino': 1, 'new york': 1, 'edward':...\n",
       "25  2020-10-26  {'puerto rico': 1, 'white house': 1, 'long isl...\n",
       "26  2020-10-27  {'pearl river': 1, 'white house': 1, 'hong kon...\n",
       "27  2020-10-28  {'san francisco': 1, 'north carolina': 1, 'new...\n",
       "28  2020-10-29  {'new jersey': 1, 'white house': 1, 'long isla...\n",
       "29  2020-10-30  {'grand rapids': 1, 'north carolina': 1, 'new ...\n",
       "32  2020-11-02  {'san francisco': 1, 'sweet home': 1, 'white h...\n",
       "33  2020-11-03  {'san francisco': 1, 'new hampshire': 1, 'sout...\n",
       "34  2020-11-04  {'san francisco': 1, 'new hampshire': 1, 'new ...\n",
       "35  2020-11-05  {'new jersey': 1, 'new york': 1, 'it': 12, 'ha...\n",
       "36  2020-11-06  {'las vegas': 1, 'sag harbor': 1, 'white house...\n",
       "39  2020-11-09  {'notre dame': 1, 'saudi arabia': 1, 'white ho...\n",
       "40  2020-11-10  {'naval academy': 1, 'white house': 1, 'hong k...\n",
       "41  2020-11-11  {'puerto rico': 1, 'saudi arabia': 1, 'new jer...\n",
       "42  2020-11-12  {'winter garden': 1, 'new jersey': 1, 'white h...\n",
       "43  2020-11-13  {'north dakota': 1, 'western sahara': 1, 'new ...\n",
       "46  2020-11-16  {'new era': 1, 'big sky': 1, 'north dakota': 1..."
      ]
     },
     "execution_count": 98,
     "metadata": {},
     "output_type": "execute_result"
    }
   ],
   "source": [
    "nyt\n"
   ]
  },
  {
   "cell_type": "code",
   "execution_count": 99,
   "metadata": {},
   "outputs": [
    {
     "data": {
      "text/plain": [
       "date                                               2020-10-07\n",
       "headline    {'puerto rico': 1, 'notre dame': 1, 'north dak...\n",
       "Name: 6, dtype: object"
      ]
     },
     "execution_count": 99,
     "metadata": {},
     "output_type": "execute_result"
    }
   ],
   "source": [
    "nyt.iloc[4]"
   ]
  },
  {
   "cell_type": "code",
   "execution_count": 133,
   "metadata": {},
   "outputs": [
    {
     "data": {
      "text/html": [
       "<div>\n",
       "<style scoped>\n",
       "    .dataframe tbody tr th:only-of-type {\n",
       "        vertical-align: middle;\n",
       "    }\n",
       "\n",
       "    .dataframe tbody tr th {\n",
       "        vertical-align: top;\n",
       "    }\n",
       "\n",
       "    .dataframe thead th {\n",
       "        text-align: right;\n",
       "    }\n",
       "</style>\n",
       "<table border=\"1\" class=\"dataframe\">\n",
       "  <thead>\n",
       "    <tr style=\"text-align: right;\">\n",
       "      <th></th>\n",
       "      <th>Unnamed: 0</th>\n",
       "      <th>Unnamed: 0.1</th>\n",
       "      <th>date</th>\n",
       "      <th>sentiment score</th>\n",
       "    </tr>\n",
       "  </thead>\n",
       "  <tbody>\n",
       "    <tr>\n",
       "      <th>0</th>\n",
       "      <td>2</td>\n",
       "      <td>4</td>\n",
       "      <td>2020-10-05</td>\n",
       "      <td>-0.225750</td>\n",
       "    </tr>\n",
       "    <tr>\n",
       "      <th>1</th>\n",
       "      <td>3</td>\n",
       "      <td>5</td>\n",
       "      <td>2020-10-06</td>\n",
       "      <td>-0.014590</td>\n",
       "    </tr>\n",
       "    <tr>\n",
       "      <th>2</th>\n",
       "      <td>4</td>\n",
       "      <td>6</td>\n",
       "      <td>2020-10-07</td>\n",
       "      <td>0.183975</td>\n",
       "    </tr>\n",
       "    <tr>\n",
       "      <th>3</th>\n",
       "      <td>7</td>\n",
       "      <td>11</td>\n",
       "      <td>2020-10-12</td>\n",
       "      <td>0.117337</td>\n",
       "    </tr>\n",
       "    <tr>\n",
       "      <th>4</th>\n",
       "      <td>8</td>\n",
       "      <td>12</td>\n",
       "      <td>2020-10-13</td>\n",
       "      <td>0.152188</td>\n",
       "    </tr>\n",
       "  </tbody>\n",
       "</table>\n",
       "</div>"
      ],
      "text/plain": [
       "   Unnamed: 0  Unnamed: 0.1        date  sentiment score\n",
       "0           2             4  2020-10-05        -0.225750\n",
       "1           3             5  2020-10-06        -0.014590\n",
       "2           4             6  2020-10-07         0.183975\n",
       "3           7            11  2020-10-12         0.117337\n",
       "4           8            12  2020-10-13         0.152188"
      ]
     },
     "execution_count": 133,
     "metadata": {},
     "output_type": "execute_result"
    }
   ],
   "source": [
    "sentimentD = pd.read_csv(\"Data/DailyDem.csv\", encoding = \"ISO-8859-1\")\n",
    "sentimentR = pd.read_csv(\"Data/DailyRep.csv\", encoding = \"ISO-8859-1\")\n",
    "\n",
    "sentimentD.head()"
   ]
  },
  {
   "cell_type": "code",
   "execution_count": 134,
   "metadata": {},
   "outputs": [
    {
     "name": "stdout",
     "output_type": "stream",
     "text": [
      "2020-10-05 00:00:00 0.05944999999999999 0.08333333333333333 0.06364\n",
      "new monday score 0.20642333333333332\n",
      "2020-10-12 00:00:00 -0.09894999999999997 0.06433333333333333 0.3062\n",
      "new monday score 0.2715833333333334\n",
      "2020-10-19 00:00:00 0.0 -0.09588 -0.17214000000000002\n",
      "new monday score -0.26802000000000004\n",
      "2020-10-26 00:00:00 -0.11150000000000004 0.08630000000000004 0.11016666666666668\n",
      "new monday score 0.08496666666666668\n",
      "2020-11-02 00:00:00 -0.0086 0.3687666666666667 0.025760000000000016\n",
      "new monday score 0.3859266666666667\n",
      "2020-11-09 00:00:00 0.21325128205128213 0.22221562499999994 0.117035\n",
      "new monday score 0.5525019070512821\n",
      "2020-11-16 00:00:00 0.08875 0.02573333333333333 -0.023547058823529414\n",
      "new monday score 0.0909362745098039\n",
      "2020-11-23 00:00:00 -0.1806 0.102775 0.13707857142857144\n",
      "new monday score 0.05925357142857143\n"
     ]
    }
   ],
   "source": [
    "for index, row in sentimentD.iterrows():\n",
    "    score = row['sentiment score']\n",
    "    date = datetime.fromisoformat(row['date'])\n",
    "    if date.weekday() == 0:\n",
    "        #it is a Monday, create a combined dict of this day and the last two days, and set it to today\n",
    "        \n",
    "\n",
    "        #grab monday, saturday, and sundays data\n",
    "        saturdayScore = sentimentD.loc[index-2]['sentiment score']\n",
    "        sundayScore = sentimentD.loc[index-1]['sentiment score']\n",
    "        mondayScore = score\n",
    "        \n",
    "        print(date, saturdayScore, sundayScore, score)\n",
    "        #copy data from saturday and sunday onto monday\n",
    "        mondayScore = saturdayScore + sundayScore + score\n",
    "        \n",
    "        print(\"new monday score\" , mondayScore)\n",
    "        \n",
    "        #drop rows of saturday and sunday\n",
    "        sentimentD = sentimentD.drop(index=[index-1,index-2], axis=0)\n",
    "        \n",
    "        sentimentD.loc[index, 'sentiment score'] =  mondayScore\n",
    "\n",
    "for index, row in sentimentR.iterrows():\n",
    "    score = row['sentiment score']\n",
    "    date = datetime.fromisoformat(row['date'])\n",
    "    if date.weekday() == 0:\n",
    "        #it is a Monday, create a combined dict of this day and the last two days, and set it to today\n",
    "        print(date, score)\n",
    "\n",
    "        #grab monday, saturday, and sundays data\n",
    "        saturdayScore = eval(str(sentimentR.loc[index-2]['sentiment score']))\n",
    "        sundayScore = eval(str(sentimentR.loc[index-1]['sentiment score']))\n",
    "        mondayScore = score\n",
    "        \n",
    "        \n",
    "        #copy data from saturday and sunday onto monday\n",
    "        mondayScore = saturdayScore + sundayScore\n",
    "        \n",
    "        print(\"new monday score\" , mondayScore)\n",
    "        \n",
    "        #drop rows of saturday and sunday\n",
    "        sentimentR = sentimentR.drop(index=[index-1,index-2], axis=0)\n",
    "        \n",
    "        sentimentR.loc[index, 'sentiment score'] =  mondayScore \n",
    "#nyt = nyt[ datetime.fromisoformat(eval(nyt['date'])).weekday() != 5 ]\n",
    "#nyt = nyt[ datetime.fromisoformat(eval(nyt['date'])).weekday() != 6 ]\n"
   ]
  },
  {
   "cell_type": "code",
   "execution_count": 136,
   "metadata": {},
   "outputs": [
    {
     "name": "stdout",
     "output_type": "stream",
     "text": [
      "[*********************100%***********************]  1 of 1 completed\n"
     ]
    }
   ],
   "source": [
    "import yfinance as yf\n",
    "spy = yf.download(\"SPY\")\n"
   ]
  },
  {
   "cell_type": "code",
   "execution_count": 137,
   "metadata": {},
   "outputs": [
    {
     "name": "stdout",
     "output_type": "stream",
     "text": [
      "this doesnt exist 2020-11-26 56\n"
     ]
    }
   ],
   "source": [
    "for index, row in sentiment.iterrows():\n",
    "    try:\n",
    "        spy.loc[str(row['date'])]\n",
    "    except:\n",
    "        print(\"this doesnt exist\", row['date'], index)\n",
    "    "
   ]
  },
  {
   "cell_type": "code",
   "execution_count": 138,
   "metadata": {},
   "outputs": [],
   "source": [
    "sentiment = sentiment.drop(index=56, axis=0)"
   ]
  },
  {
   "cell_type": "code",
   "execution_count": 140,
   "metadata": {},
   "outputs": [],
   "source": [
    "sentiment.to_csv(\"./data/DailyDemFiltered.csv\")"
   ]
  },
  {
   "cell_type": "code",
   "execution_count": null,
   "metadata": {},
   "outputs": [],
   "source": [
    "sentiment = pd.read_csv(\"Data/DailyDem.csv\", encoding = \"ISO-8859-1\")\n",
    "for index, row in sentiment.iterrows():\n",
    "    score = row['sentiment score']\n",
    "    date = datetime.fromisoformat(row['date'])\n",
    "    if date.weekday() == 0:\n",
    "        #it is a Monday, create a combined dict of this day and the last two days, and set it to today\n",
    "        \n",
    "\n",
    "        #grab monday, saturday, and sundays data\n",
    "        saturdayScore = eval(str(sentiment.loc[index-2]['sentiment score']))\n",
    "        sundayScore = eval(str(sentiment.loc[index-1]['sentiment score']))\n",
    "        mondayScore = score\n",
    "        \n",
    "        print(date, saturdayScore, sundayScore, score)\n",
    "        #copy data from saturday and sunday onto monday\n",
    "        mondayScore = saturdayScore + sundayScore + score\n",
    "        \n",
    "        print(\"new monday score\" , mondayScore)\n",
    "        \n",
    "        #drop rows of saturday and sunday\n",
    "        sentiment = sentiment.drop(index=[index-1,index-2], axis=0)\n",
    "        \n",
    "        sentiment.loc[index, 'sentiment score'] =  mondayScore\n",
    "        \n",
    "#nyt = nyt[ datetime.fromisoformat(eval(nyt['date'])).weekday() != 5 ]\n",
    "#nyt = nyt[ datetime.fromisoformat(eval(nyt['date'])).weekday() != 6 ]\n",
    "sentiment = sentiment.drop(index=56, axis=0)\n",
    "sentiment.to_csv(\"./data/Da.csv\")\n"
   ]
  }
 ],
 "metadata": {
  "kernelspec": {
   "display_name": "Python 3",
   "language": "python",
   "name": "python3"
  },
  "language_info": {
   "codemirror_mode": {
    "name": "ipython",
    "version": 3
   },
   "file_extension": ".py",
   "mimetype": "text/x-python",
   "name": "python",
   "nbconvert_exporter": "python",
   "pygments_lexer": "ipython3",
   "version": "3.8.3"
  }
 },
 "nbformat": 4,
 "nbformat_minor": 2
}
