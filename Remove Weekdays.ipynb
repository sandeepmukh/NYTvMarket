{
 "cells": [
  {
   "cell_type": "markdown",
   "metadata": {},
   "source": [
    "Changing NYT weekdays -> weekends"
   ]
  },
  {
   "cell_type": "code",
   "execution_count": 5,
   "metadata": {},
   "outputs": [],
   "source": [
    "import pandas as pd\n",
    "import json\n",
    "from datetime import datetime\n"
   ]
  },
  {
   "cell_type": "code",
   "execution_count": 6,
   "metadata": {},
   "outputs": [
    {
     "data": {
      "text/html": [
       "<div>\n",
       "<style scoped>\n",
       "    .dataframe tbody tr th:only-of-type {\n",
       "        vertical-align: middle;\n",
       "    }\n",
       "\n",
       "    .dataframe tbody tr th {\n",
       "        vertical-align: top;\n",
       "    }\n",
       "\n",
       "    .dataframe thead th {\n",
       "        text-align: right;\n",
       "    }\n",
       "</style>\n",
       "<table border=\"1\" class=\"dataframe\">\n",
       "  <thead>\n",
       "    <tr style=\"text-align: right;\">\n",
       "      <th></th>\n",
       "      <th>date</th>\n",
       "      <th>sentiment score</th>\n",
       "    </tr>\n",
       "  </thead>\n",
       "  <tbody>\n",
       "    <tr>\n",
       "      <th>0</th>\n",
       "      <td>2020-10-01</td>\n",
       "      <td>-0.020733</td>\n",
       "    </tr>\n",
       "    <tr>\n",
       "      <th>1</th>\n",
       "      <td>2020-10-02</td>\n",
       "      <td>-0.205017</td>\n",
       "    </tr>\n",
       "    <tr>\n",
       "      <th>2</th>\n",
       "      <td>2020-10-03</td>\n",
       "      <td>0.059450</td>\n",
       "    </tr>\n",
       "    <tr>\n",
       "      <th>3</th>\n",
       "      <td>2020-10-04</td>\n",
       "      <td>0.083333</td>\n",
       "    </tr>\n",
       "    <tr>\n",
       "      <th>4</th>\n",
       "      <td>2020-10-05</td>\n",
       "      <td>0.063640</td>\n",
       "    </tr>\n",
       "  </tbody>\n",
       "</table>\n",
       "</div>"
      ],
      "text/plain": [
       "         date  sentiment score\n",
       "0  2020-10-01        -0.020733\n",
       "1  2020-10-02        -0.205017\n",
       "2  2020-10-03         0.059450\n",
       "3  2020-10-04         0.083333\n",
       "4  2020-10-05         0.063640"
      ]
     },
     "execution_count": 6,
     "metadata": {},
     "output_type": "execute_result"
    }
   ],
   "source": [
    "sentimentD = pd.read_csv(\"Data/DailyDem.csv\", encoding = \"ISO-8859-1\")\n",
    "sentimentR = pd.read_csv(\"Data/DailyRep.csv\", encoding = \"ISO-8859-1\")\n",
    "\n",
    "sentimentD.head()"
   ]
  },
  {
   "cell_type": "code",
   "execution_count": 7,
   "metadata": {},
   "outputs": [
    {
     "name": "stdout",
     "output_type": "stream",
     "text": [
      "2020-10-05 00:00:00 0.05945 0.08333333333333333 0.06363999999999999\n",
      "new monday score 0.2064233333333333\n",
      "2020-10-12 00:00:00 -0.09895000000000002 0.06433333333333333 0.3062\n",
      "new monday score 0.27158333333333334\n",
      "2020-10-19 00:00:00 0.0 -0.09588 -0.17214000000000002\n",
      "new monday score -0.26802000000000004\n",
      "2020-10-26 00:00:00 -0.1115 0.08630000000000003 0.11016666666666668\n",
      "new monday score 0.0849666666666667\n",
      "2020-11-02 00:00:00 -0.0086 0.3687666666666667 0.025760000000000016\n",
      "new monday score 0.3859266666666667\n",
      "2020-11-09 00:00:00 0.21325128205128205 0.22221562499999994 0.117035\n",
      "new monday score 0.552501907051282\n",
      "2020-11-16 00:00:00 0.08875 0.025733333333333337 -0.023547058823529414\n",
      "new monday score 0.0909362745098039\n",
      "2020-11-23 00:00:00 -0.1806 0.102775 0.1370785714285714\n",
      "new monday score 0.059253571428571405\n",
      "2020-10-05 00:00:00 0.014015999999999995\n",
      "new monday score -0.08950234113712377\n",
      "2020-10-12 00:00:00 0.11090714285714287\n",
      "new monday score 0.03604210526315789\n",
      "2020-10-19 00:00:00 -0.15526875000000004\n",
      "new monday score -0.24721333333333328\n",
      "2020-10-26 00:00:00 6.666666666667166e-05\n",
      "new monday score -0.12052083333333334\n",
      "2020-11-02 00:00:00 -0.15492666666666666\n",
      "new monday score 0.10707181818181818\n",
      "2020-11-09 00:00:00 -0.13910625\n",
      "new monday score -0.22781008403361339\n",
      "2020-11-16 00:00:00 -0.18978666666666666\n",
      "new monday score -0.0814\n",
      "2020-11-23 00:00:00 -0.12117857142857134\n",
      "new monday score -0.004405555555555579\n"
     ]
    }
   ],
   "source": [
    "for index, row in sentimentD.iterrows():\n",
    "    score = row['sentiment score']\n",
    "    date = datetime.fromisoformat(row['date'])\n",
    "    if date.weekday() == 0:\n",
    "        #it is a Monday, create a combined dict of this day and the last two days, and set it to today\n",
    "        \n",
    "\n",
    "        #grab monday, saturday, and sundays data\n",
    "        saturdayScore = sentimentD.loc[index-2]['sentiment score']\n",
    "        sundayScore = sentimentD.loc[index-1]['sentiment score']\n",
    "        mondayScore = score\n",
    "        \n",
    "        print(date, saturdayScore, sundayScore, score)\n",
    "        #copy data from saturday and sunday onto monday\n",
    "        mondayScore = saturdayScore + sundayScore + score\n",
    "        \n",
    "        print(\"new monday score\" , mondayScore)\n",
    "        \n",
    "        #drop rows of saturday and sunday\n",
    "        sentimentD = sentimentD.drop(index=[index-1,index-2], axis=0)\n",
    "        \n",
    "        sentimentD.loc[index, 'sentiment score'] =  mondayScore\n",
    "\n",
    "for index, row in sentimentR.iterrows():\n",
    "    score = row['sentiment score']\n",
    "    date = datetime.fromisoformat(row['date'])\n",
    "    if date.weekday() == 0:\n",
    "        #it is a Monday, create a combined dict of this day and the last two days, and set it to today\n",
    "        print(date, score)\n",
    "\n",
    "        #grab monday, saturday, and sundays data\n",
    "        saturdayScore = eval(str(sentimentR.loc[index-2]['sentiment score']))\n",
    "        sundayScore = eval(str(sentimentR.loc[index-1]['sentiment score']))\n",
    "        mondayScore = score\n",
    "        \n",
    "        \n",
    "        #copy data from saturday and sunday onto monday\n",
    "        mondayScore = saturdayScore + sundayScore\n",
    "        \n",
    "        print(\"new monday score\" , mondayScore)\n",
    "        \n",
    "        #drop rows of saturday and sunday\n",
    "        sentimentR = sentimentR.drop(index=[index-1,index-2], axis=0)\n",
    "        \n",
    "        sentimentR.loc[index, 'sentiment score'] =  mondayScore \n",
    "#nyt = nyt[ datetime.fromisoformat(eval(nyt['date'])).weekday() != 5 ]\n",
    "#nyt = nyt[ datetime.fromisoformat(eval(nyt['date'])).weekday() != 6 ]\n"
   ]
  },
  {
   "cell_type": "code",
   "execution_count": 8,
   "metadata": {},
   "outputs": [
    {
     "name": "stdout",
     "output_type": "stream",
     "text": [
      "[*********************100%***********************]  1 of 1 completed\n"
     ]
    }
   ],
   "source": [
    "import yfinance as yf\n",
    "spy = yf.download(\"SPY\")\n"
   ]
  },
  {
   "cell_type": "code",
   "execution_count": 15,
   "metadata": {},
   "outputs": [
    {
     "name": "stdout",
     "output_type": "stream",
     "text": [
      "this doesnt exist 2020-11-26 56\n",
      "this doesnt exist 2020-11-28 58\n",
      "this doesnt exist 2020-11-29 59\n"
     ]
    },
    {
     "data": {
      "text/plain": [
       "[56, 58, 59]"
      ]
     },
     "execution_count": 15,
     "metadata": {},
     "output_type": "execute_result"
    }
   ],
   "source": [
    "rowsToDrop = []\n",
    "for index, row in sentimentD.iterrows():\n",
    "    try:\n",
    "        spy.loc[str(row['date'])]\n",
    "    except:\n",
    "        print(\"this doesnt exist\", row['date'], index)\n",
    "        rowsToDrop.append(index)\n",
    "rowsToDrop"
   ]
  },
  {
   "cell_type": "code",
   "execution_count": 19,
   "metadata": {},
   "outputs": [],
   "source": [
    "sentimentD = sentimentD.drop(rowsToDrop)\n",
    "sentimentR = sentimentR.drop(rowsToDrop)"
   ]
  },
  {
   "cell_type": "code",
   "execution_count": 20,
   "metadata": {},
   "outputs": [],
   "source": [
    "sentimentD.to_csv(\"./data/DailyDemFiltered.csv\")\n",
    "sentimentR.to_csv(\"./data/DailyRepFiltered.csv\")"
   ]
  }
 ],
 "metadata": {
  "kernelspec": {
   "display_name": "Python 3",
   "language": "python",
   "name": "python3"
  },
  "language_info": {
   "codemirror_mode": {
    "name": "ipython",
    "version": 3
   },
   "file_extension": ".py",
   "mimetype": "text/x-python",
   "name": "python",
   "nbconvert_exporter": "python",
   "pygments_lexer": "ipython3",
   "version": "3.8.3"
  }
 },
 "nbformat": 4,
 "nbformat_minor": 2
}
