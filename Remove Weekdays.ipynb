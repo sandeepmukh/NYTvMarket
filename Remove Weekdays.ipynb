{
 "cells": [
  {
   "cell_type": "markdown",
   "metadata": {},
   "source": [
    "Changing NYT weekdays -> weekends"
   ]
  },
  {
   "cell_type": "code",
   "execution_count": 19,
   "metadata": {},
   "outputs": [],
   "source": [
    "import pandas as pd\n",
    "import json\n",
    "from datetime import datetime\n"
   ]
  },
  {
   "cell_type": "code",
   "execution_count": 27,
   "metadata": {},
   "outputs": [],
   "source": [
    "nyt = pd.read_csv(\"NYTDataCleaned.csv\", encoding = \"ISO-8859-1\")\n"
   ]
  },
  {
   "cell_type": "code",
   "execution_count": 21,
   "metadata": {},
   "outputs": [
    {
     "output_type": "execute_result",
     "data": {
      "text/plain": [
       "1"
      ]
     },
     "metadata": {},
     "execution_count": 21
    }
   ],
   "source": [
    "eval(nyt.iloc[1]['headline'])['central park']"
   ]
  },
  {
   "cell_type": "code",
   "execution_count": 28,
   "metadata": {
    "scrolled": true
   },
   "outputs": [
    {
     "output_type": "stream",
     "name": "stdout",
     "text": [
      "2020-10-05 00:00:00 4\n2020-10-12 00:00:00 11\n2020-10-19 00:00:00 18\n2020-10-26 00:00:00 25\n2020-11-02 00:00:00 32\n2020-11-09 00:00:00 39\n2020-11-16 00:00:00 46\n"
     ]
    }
   ],
   "source": [
    "for index, row in nyt.iterrows():\n",
    "    dictOfFrequencies = eval(row['headline'])\n",
    "    date = datetime.fromisoformat(row['date'])\n",
    "    if date.weekday() == 0:\n",
    "        #it is a Monday, create a combined dict of this day and the last two days, and set it to today\n",
    "        print(date, index)\n",
    "        #grab monday, saturday, and sundays data\n",
    "        saturdayDict = eval(nyt.loc[index-2]['headline'])\n",
    "        sundayDict = eval(nyt.loc[index-1]['headline'])\n",
    "        mondayDict = eval(row['headline'])\n",
    "        \n",
    "        #copy data from saturday and sunday onto monday\n",
    "        mondayDict.update(sundayDict)\n",
    "        mondayDict.update(saturdayDict)\n",
    "        \n",
    "        #drop rows of saturday and sunday\n",
    "        nyt = nyt.drop(index=[index-1,index-2], axis=0)\n",
    "        \n",
    "        row['headline'] = str(mondayDict)\n",
    "        \n",
    "#nyt = nyt[ datetime.fromisoformat(eval(nyt['date'])).weekday() != 5 ]\n",
    "#nyt = nyt[ datetime.fromisoformat(eval(nyt['date'])).weekday() != 6 ]\n",
    "\n"
   ]
  },
  {
   "cell_type": "code",
   "execution_count": 29,
   "metadata": {},
   "outputs": [
    {
     "output_type": "execute_result",
     "data": {
      "text/plain": [
       "          date                                           headline\n",
       "0   2020-10-01  {'new jersey': 1, 'white house': 1, 'long isla...\n",
       "1   2020-10-02  {'audubon park': 1, 'los angeles': 1, 'new jer...\n",
       "4   2020-10-05  {'los angeles': 1, 'white house': 1, 'new york...\n",
       "5   2020-10-06  {'south carolina': 1, 'new jersey': 1, 'white ...\n",
       "6   2020-10-07  {'puerto rico': 1, 'notre dame': 1, 'north dak...\n",
       "7   2020-10-08  {'dodge city': 1, 'notre dame': 1, 'white hous...\n",
       "8   2020-10-09  {'white house': 1, 'hong kong': 1, 'rhode isla...\n",
       "11  2020-10-12  {'madison park': 1, 'le roy': 1, 'winless': 2,...\n",
       "12  2020-10-13  {'south carolina': 1, 'white house': 1, 'north...\n",
       "13  2020-10-14  {'south carolina': 1, 'north carolina': 1, 'de...\n",
       "14  2020-10-15  {'south carolina': 1, 'los angeles': 1, 'new j...\n",
       "15  2020-10-16  {'south carolina': 1, 'los angeles': 1, 'new j...\n",
       "18  2020-10-19  {'lincoln center': 1, 'new jersey': 1, 'new yo...\n",
       "19  2020-10-20  {'lake charles': 1, 'san francisco': 1, 'new j...\n",
       "20  2020-10-21  {'new hampshire': 1, 'ann arbor': 1, 'white ho...\n",
       "21  2020-10-22  {'puerto rico': 1, 'new era': 1, 'north caroli...\n",
       "22  2020-10-23  {'san bernardino': 1, 'new york': 1, 'edward':...\n",
       "25  2020-10-26  {'puerto rico': 1, 'white house': 1, 'long isl...\n",
       "26  2020-10-27  {'pearl river': 1, 'white house': 1, 'hong kon...\n",
       "27  2020-10-28  {'san francisco': 1, 'north carolina': 1, 'new...\n",
       "28  2020-10-29  {'new jersey': 1, 'white house': 1, 'long isla...\n",
       "29  2020-10-30  {'grand rapids': 1, 'north carolina': 1, 'new ...\n",
       "32  2020-11-02  {'san francisco': 1, 'sweet home': 1, 'white h...\n",
       "33  2020-11-03  {'san francisco': 1, 'new hampshire': 1, 'sout...\n",
       "34  2020-11-04  {'san francisco': 1, 'new hampshire': 1, 'new ...\n",
       "35  2020-11-05  {'new jersey': 1, 'new york': 1, 'it': 12, 'ha...\n",
       "36  2020-11-06  {'las vegas': 1, 'sag harbor': 1, 'white house...\n",
       "39  2020-11-09  {'notre dame': 1, 'saudi arabia': 1, 'white ho...\n",
       "40  2020-11-10  {'naval academy': 1, 'white house': 1, 'hong k...\n",
       "41  2020-11-11  {'puerto rico': 1, 'saudi arabia': 1, 'new jer...\n",
       "42  2020-11-12  {'winter garden': 1, 'new jersey': 1, 'white h...\n",
       "43  2020-11-13  {'north dakota': 1, 'western sahara': 1, 'new ...\n",
       "46  2020-11-16  {'new era': 1, 'big sky': 1, 'north dakota': 1..."
      ],
      "text/html": "<div>\n<style scoped>\n    .dataframe tbody tr th:only-of-type {\n        vertical-align: middle;\n    }\n\n    .dataframe tbody tr th {\n        vertical-align: top;\n    }\n\n    .dataframe thead th {\n        text-align: right;\n    }\n</style>\n<table border=\"1\" class=\"dataframe\">\n  <thead>\n    <tr style=\"text-align: right;\">\n      <th></th>\n      <th>date</th>\n      <th>headline</th>\n    </tr>\n  </thead>\n  <tbody>\n    <tr>\n      <th>0</th>\n      <td>2020-10-01</td>\n      <td>{'new jersey': 1, 'white house': 1, 'long isla...</td>\n    </tr>\n    <tr>\n      <th>1</th>\n      <td>2020-10-02</td>\n      <td>{'audubon park': 1, 'los angeles': 1, 'new jer...</td>\n    </tr>\n    <tr>\n      <th>4</th>\n      <td>2020-10-05</td>\n      <td>{'los angeles': 1, 'white house': 1, 'new york...</td>\n    </tr>\n    <tr>\n      <th>5</th>\n      <td>2020-10-06</td>\n      <td>{'south carolina': 1, 'new jersey': 1, 'white ...</td>\n    </tr>\n    <tr>\n      <th>6</th>\n      <td>2020-10-07</td>\n      <td>{'puerto rico': 1, 'notre dame': 1, 'north dak...</td>\n    </tr>\n    <tr>\n      <th>7</th>\n      <td>2020-10-08</td>\n      <td>{'dodge city': 1, 'notre dame': 1, 'white hous...</td>\n    </tr>\n    <tr>\n      <th>8</th>\n      <td>2020-10-09</td>\n      <td>{'white house': 1, 'hong kong': 1, 'rhode isla...</td>\n    </tr>\n    <tr>\n      <th>11</th>\n      <td>2020-10-12</td>\n      <td>{'madison park': 1, 'le roy': 1, 'winless': 2,...</td>\n    </tr>\n    <tr>\n      <th>12</th>\n      <td>2020-10-13</td>\n      <td>{'south carolina': 1, 'white house': 1, 'north...</td>\n    </tr>\n    <tr>\n      <th>13</th>\n      <td>2020-10-14</td>\n      <td>{'south carolina': 1, 'north carolina': 1, 'de...</td>\n    </tr>\n    <tr>\n      <th>14</th>\n      <td>2020-10-15</td>\n      <td>{'south carolina': 1, 'los angeles': 1, 'new j...</td>\n    </tr>\n    <tr>\n      <th>15</th>\n      <td>2020-10-16</td>\n      <td>{'south carolina': 1, 'los angeles': 1, 'new j...</td>\n    </tr>\n    <tr>\n      <th>18</th>\n      <td>2020-10-19</td>\n      <td>{'lincoln center': 1, 'new jersey': 1, 'new yo...</td>\n    </tr>\n    <tr>\n      <th>19</th>\n      <td>2020-10-20</td>\n      <td>{'lake charles': 1, 'san francisco': 1, 'new j...</td>\n    </tr>\n    <tr>\n      <th>20</th>\n      <td>2020-10-21</td>\n      <td>{'new hampshire': 1, 'ann arbor': 1, 'white ho...</td>\n    </tr>\n    <tr>\n      <th>21</th>\n      <td>2020-10-22</td>\n      <td>{'puerto rico': 1, 'new era': 1, 'north caroli...</td>\n    </tr>\n    <tr>\n      <th>22</th>\n      <td>2020-10-23</td>\n      <td>{'san bernardino': 1, 'new york': 1, 'edward':...</td>\n    </tr>\n    <tr>\n      <th>25</th>\n      <td>2020-10-26</td>\n      <td>{'puerto rico': 1, 'white house': 1, 'long isl...</td>\n    </tr>\n    <tr>\n      <th>26</th>\n      <td>2020-10-27</td>\n      <td>{'pearl river': 1, 'white house': 1, 'hong kon...</td>\n    </tr>\n    <tr>\n      <th>27</th>\n      <td>2020-10-28</td>\n      <td>{'san francisco': 1, 'north carolina': 1, 'new...</td>\n    </tr>\n    <tr>\n      <th>28</th>\n      <td>2020-10-29</td>\n      <td>{'new jersey': 1, 'white house': 1, 'long isla...</td>\n    </tr>\n    <tr>\n      <th>29</th>\n      <td>2020-10-30</td>\n      <td>{'grand rapids': 1, 'north carolina': 1, 'new ...</td>\n    </tr>\n    <tr>\n      <th>32</th>\n      <td>2020-11-02</td>\n      <td>{'san francisco': 1, 'sweet home': 1, 'white h...</td>\n    </tr>\n    <tr>\n      <th>33</th>\n      <td>2020-11-03</td>\n      <td>{'san francisco': 1, 'new hampshire': 1, 'sout...</td>\n    </tr>\n    <tr>\n      <th>34</th>\n      <td>2020-11-04</td>\n      <td>{'san francisco': 1, 'new hampshire': 1, 'new ...</td>\n    </tr>\n    <tr>\n      <th>35</th>\n      <td>2020-11-05</td>\n      <td>{'new jersey': 1, 'new york': 1, 'it': 12, 'ha...</td>\n    </tr>\n    <tr>\n      <th>36</th>\n      <td>2020-11-06</td>\n      <td>{'las vegas': 1, 'sag harbor': 1, 'white house...</td>\n    </tr>\n    <tr>\n      <th>39</th>\n      <td>2020-11-09</td>\n      <td>{'notre dame': 1, 'saudi arabia': 1, 'white ho...</td>\n    </tr>\n    <tr>\n      <th>40</th>\n      <td>2020-11-10</td>\n      <td>{'naval academy': 1, 'white house': 1, 'hong k...</td>\n    </tr>\n    <tr>\n      <th>41</th>\n      <td>2020-11-11</td>\n      <td>{'puerto rico': 1, 'saudi arabia': 1, 'new jer...</td>\n    </tr>\n    <tr>\n      <th>42</th>\n      <td>2020-11-12</td>\n      <td>{'winter garden': 1, 'new jersey': 1, 'white h...</td>\n    </tr>\n    <tr>\n      <th>43</th>\n      <td>2020-11-13</td>\n      <td>{'north dakota': 1, 'western sahara': 1, 'new ...</td>\n    </tr>\n    <tr>\n      <th>46</th>\n      <td>2020-11-16</td>\n      <td>{'new era': 1, 'big sky': 1, 'north dakota': 1...</td>\n    </tr>\n  </tbody>\n</table>\n</div>"
     },
     "metadata": {},
     "execution_count": 29
    }
   ],
   "source": [
    "nyt\n"
   ]
  },
  {
   "cell_type": "code",
   "execution_count": 57,
   "metadata": {},
   "outputs": [
    {
     "data": {
      "text/plain": [
       "date                                               2020-10-07\n",
       "headline    {'puerto rico': 1, 'notre dame': 1, 'north dak...\n",
       "Name: 6, dtype: object"
      ]
     },
     "execution_count": 57,
     "metadata": {},
     "output_type": "execute_result"
    }
   ],
   "source": [
    "nyt.iloc[4]"
   ]
  },
  {
   "cell_type": "code",
   "execution_count": null,
   "metadata": {},
   "outputs": [],
   "source": []
  }
 ],
 "metadata": {
  "kernelspec": {
   "display_name": "Python 3",
   "language": "python",
   "name": "python3"
  },
  "language_info": {
   "codemirror_mode": {
    "name": "ipython",
    "version": 3
   },
   "file_extension": ".py",
   "mimetype": "text/x-python",
   "name": "python",
   "nbconvert_exporter": "python",
   "pygments_lexer": "ipython3",
   "version": "3.8.3-final"
  }
 },
 "nbformat": 4,
 "nbformat_minor": 2
}