{
 "cells": [
  {
   "cell_type": "markdown",
   "metadata": {},
   "source": [
    "# Correlating NYT Data with Market Data"
   ]
  },
  {
   "cell_type": "markdown",
   "metadata": {},
   "source": [
    "### Loading in Data"
   ]
  },
  {
   "cell_type": "code",
   "execution_count": 21,
   "metadata": {},
   "outputs": [],
   "source": [
    "import os\n",
    "import json\n",
    "import time\n",
    "import requests\n",
    "import datetime\n",
    "import dateutil\n",
    "import pandas as pd\n",
    "import glob\n",
    "import string\n",
    "from dateutil.relativedelta import relativedelta\n",
    "import numpy as np\n",
    "import yfinance as yf\n",
    "from statsmodels.tsa.statespace.sarimax import SARIMAX"
   ]
  },
  {
   "cell_type": "code",
   "execution_count": 4,
   "metadata": {},
   "outputs": [
    {
     "name": "stdout",
     "output_type": "stream",
     "text": [
      "[*********************100%***********************]  1 of 1 completed\n",
      "[*********************100%***********************]  1 of 1 completed\n",
      "[*********************100%***********************]  1 of 1 completed\n",
      "[*********************100%***********************]  1 of 1 completed\n",
      "[*********************100%***********************]  1 of 1 completed\n",
      "[*********************100%***********************]  1 of 1 completed\n",
      "[*********************100%***********************]  1 of 1 completed\n",
      "[*********************100%***********************]  1 of 1 completed\n",
      "[*********************100%***********************]  1 of 1 completed\n",
      "[*********************100%***********************]  1 of 1 completed\n"
     ]
    }
   ],
   "source": [
    "spy = yf.download(\"SPY\")\n",
    "nyt = pd.read_csv(\"./Data/NYTDataCleaned.csv\", encoding = \"ISO-8859-1\")\n",
    "demsent = pd.read_csv(\"./Data/DailyDem.csv\")\n",
    "repsent = pd.read_csv(\"./Data/DailyRep.csv\")\n",
    "\n",
    "\n",
    "\n",
    "xlk = yf.download(\"XLK\")\n",
    "xlv = yf.download(\"XLV\")\n",
    "xlf = yf.download(\"XLF\")\n",
    "xly = yf.download(\"XLY\")\n",
    "xli = yf.download(\"XLI\")\n",
    "xlp = yf.download(\"XLP\")\n",
    "xlu = yf.download(\"XLU\")\n",
    "xle = yf.download(\"XLE\")\n",
    "xlc = yf.download(\"XLC\")\n"
   ]
  },
  {
   "cell_type": "code",
   "execution_count": 1,
   "metadata": {},
   "outputs": [
    {
     "ename": "NameError",
     "evalue": "name 'spy' is not defined",
     "output_type": "error",
     "traceback": [
      "\u001b[1;31m---------------------------------------------------------------------------\u001b[0m",
      "\u001b[1;31mNameError\u001b[0m                                 Traceback (most recent call last)",
      "\u001b[1;32m<ipython-input-1-8211c66cf84b>\u001b[0m in \u001b[0;36m<module>\u001b[1;34m\u001b[0m\n\u001b[1;32m----> 1\u001b[1;33m \u001b[0mlistOfFunds\u001b[0m \u001b[1;33m=\u001b[0m \u001b[1;33m[\u001b[0m\u001b[0mspy\u001b[0m \u001b[1;33m,\u001b[0m \u001b[0mxlk\u001b[0m \u001b[1;33m,\u001b[0m \u001b[0mxlv\u001b[0m\u001b[1;33m,\u001b[0m \u001b[0mxlf\u001b[0m\u001b[1;33m,\u001b[0m \u001b[0mxly\u001b[0m \u001b[1;33m,\u001b[0m \u001b[0mxli\u001b[0m\u001b[1;33m,\u001b[0m \u001b[0mxlp\u001b[0m\u001b[1;33m,\u001b[0m \u001b[0mxlu\u001b[0m\u001b[1;33m,\u001b[0m \u001b[0mxle\u001b[0m\u001b[1;33m,\u001b[0m \u001b[0mxlc\u001b[0m\u001b[1;33m]\u001b[0m\u001b[1;33m\u001b[0m\u001b[1;33m\u001b[0m\u001b[0m\n\u001b[0m\u001b[0;32m      2\u001b[0m \u001b[1;33m\u001b[0m\u001b[0m\n\u001b[0;32m      3\u001b[0m \u001b[1;32mfor\u001b[0m \u001b[0metf\u001b[0m \u001b[1;32min\u001b[0m \u001b[0mlistOfFunds\u001b[0m\u001b[1;33m:\u001b[0m\u001b[1;33m\u001b[0m\u001b[1;33m\u001b[0m\u001b[0m\n\u001b[0;32m      4\u001b[0m     \u001b[0metf\u001b[0m\u001b[1;33m[\u001b[0m\u001b[1;34m\"Log Returns\"\u001b[0m\u001b[1;33m]\u001b[0m \u001b[1;33m=\u001b[0m \u001b[0mnp\u001b[0m\u001b[1;33m.\u001b[0m\u001b[0mlog\u001b[0m\u001b[1;33m(\u001b[0m\u001b[0metf\u001b[0m\u001b[1;33m[\u001b[0m\u001b[1;34m\"Close\"\u001b[0m\u001b[1;33m]\u001b[0m\u001b[1;33m/\u001b[0m\u001b[0metf\u001b[0m\u001b[1;33m[\u001b[0m\u001b[1;34m\"Close\"\u001b[0m\u001b[1;33m]\u001b[0m\u001b[1;33m.\u001b[0m\u001b[0mshift\u001b[0m\u001b[1;33m(\u001b[0m\u001b[1;36m1\u001b[0m\u001b[1;33m)\u001b[0m\u001b[1;33m)\u001b[0m\u001b[1;33m\u001b[0m\u001b[1;33m\u001b[0m\u001b[0m\n\u001b[0;32m      5\u001b[0m \u001b[1;33m\u001b[0m\u001b[0m\n",
      "\u001b[1;31mNameError\u001b[0m: name 'spy' is not defined"
     ]
    }
   ],
   "source": [
    "listOfFunds = [spy , xlk , xlv, xlf, xly , xli, xlp, xlu, xle, xlc]\n",
    "\n",
    "for etf in listOfFunds:\n",
    "    etf[\"Log Returns\"] = np.log(etf[\"Close\"]/etf[\"Close\"].shift(1))\n",
    "    \n",
    "xlk = xlk['2020-10-01':'2020-11-29']\n",
    "xlv = xlv['2020-10-01':'2020-11-29']\n",
    "xlf = xlf['2020-10-01':'2020-11-29']\n",
    "xly = xly['2020-10-01':'2020-11-29']\n",
    "xli = xli['2020-10-01':'2020-11-29']\n",
    "xlp = xlp['2020-10-01':'2020-11-29']\n",
    "xlu = xlu['2020-10-01':'2020-11-29']\n",
    "xle = xle['2020-10-01':'2020-11-29']\n",
    "xlc = xlc['2020-10-01':'2020-11-29']\n"
   ]
  },
  {
   "cell_type": "code",
   "execution_count": 6,
   "metadata": {},
   "outputs": [],
   "source": [
    "def cov_cor(sentiment, logReturns):\n",
    "    '''Returns a tuple containing the correlation and\n",
    "    covariance respectively between two timeseries dataframes'''\n",
    "    cor = sentiment.corr(logReturns)\n",
    "    cov = sentiment.cov(logReturns) \n",
    "    return (cor, cov)"
   ]
  },
  {
   "cell_type": "code",
   "execution_count": 15,
   "metadata": {},
   "outputs": [
    {
     "name": "stdout",
     "output_type": "stream",
     "text": [
      "   Unnamed: 0        date  sentiment score\n",
      "0           0  2020-10-01        -0.020733\n",
      "1           1  2020-10-02        -0.205017\n",
      "2           4  2020-10-05         0.142783\n",
      "3           5  2020-10-06        -0.014590\n",
      "4           6  2020-10-07         0.183975                   Open        High         Low       Close   Adj Close  \\\n",
      "Date                                                                     \n",
      "2020-10-01  337.690002  338.739990  335.010010  337.040009  337.040009   \n",
      "2020-10-02  331.700012  337.010010  331.190002  333.839996  333.839996   \n",
      "2020-10-05  336.059998  339.959991  336.010010  339.760010  339.760010   \n",
      "2020-10-06  339.910004  342.170013  334.380005  334.929993  334.929993   \n",
      "2020-10-07  338.119995  341.630005  338.089996  340.760010  340.760010   \n",
      "\n",
      "              Volume  Log Returns  \n",
      "Date                               \n",
      "2020-10-01  88698700     0.006399  \n",
      "2020-10-02  89431100    -0.009540  \n",
      "2020-10-05  45713100     0.017578  \n",
      "2020-10-06  90128900    -0.014318  \n",
      "2020-10-07  56999600     0.017257  \n"
     ]
    }
   ],
   "source": [
    "# np.cov(demsent, spy['2020-10-01':'2020-11-30'][\"Log Returns\"])\n",
    "# spy['2020-10-01':'2020-11-30']\n",
    "# demsent.set_index(\"date\")\n",
    "print(demsent.head(), spy['2020-10-01':'2020-11-30'].head())"
   ]
  }
 ],
 "metadata": {
  "kernelspec": {
   "display_name": "Python 3",
   "language": "python",
   "name": "python3"
  },
  "language_info": {
   "codemirror_mode": {
    "name": "ipython",
    "version": 3
   },
   "file_extension": ".py",
   "mimetype": "text/x-python",
   "name": "python",
   "nbconvert_exporter": "python",
   "pygments_lexer": "ipython3",
   "version": "3.8.3"
  }
 },
 "nbformat": 4,
 "nbformat_minor": 4
}
