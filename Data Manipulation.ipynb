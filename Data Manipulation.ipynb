{
 "cells": [
  {
   "cell_type": "markdown",
   "metadata": {},
   "source": [
    "# Correlating NYT Data with Market Data"
   ]
  },
  {
   "cell_type": "markdown",
   "metadata": {},
   "source": [
    "### Loading in Data"
   ]
  },
  {
   "cell_type": "code",
   "execution_count": 305,
   "metadata": {},
   "outputs": [],
   "source": [
    "import os\n",
    "import json\n",
    "import time\n",
    "import requests\n",
    "import datetime\n",
    "import dateutil\n",
    "import pandas as pd\n",
    "import glob\n",
    "import string\n",
    "from dateutil.relativedelta import relativedelta\n",
    "import numpy as np\n",
    "import yfinance as yf\n",
    "from statsmodels.tsa.statespace.sarimax import SARIMAX\n",
    "from statsmodels.tsa.ar_model import AutoReg \n",
    "import matplotlib.pyplot as plt"
   ]
  },
  {
   "cell_type": "code",
   "execution_count": 2,
   "metadata": {},
   "outputs": [
    {
     "name": "stdout",
     "output_type": "stream",
     "text": [
      "[*********************100%***********************]  1 of 1 completed\n",
      "[*********************100%***********************]  1 of 1 completed\n",
      "[*********************100%***********************]  1 of 1 completed\n",
      "[*********************100%***********************]  1 of 1 completed\n",
      "[*********************100%***********************]  1 of 1 completed\n",
      "[*********************100%***********************]  1 of 1 completed\n",
      "[*********************100%***********************]  1 of 1 completed\n",
      "[*********************100%***********************]  1 of 1 completed\n",
      "[*********************100%***********************]  1 of 1 completed\n",
      "[*********************100%***********************]  1 of 1 completed\n"
     ]
    }
   ],
   "source": [
    "spy = yf.download(\"SPY\")\n",
    "demsent = pd.read_csv(\"./Data/DailyDemFiltered.csv\")\n",
    "repsent = pd.read_csv(\"./Data/DailyRepFiltered.csv\")\n",
    "\n",
    "demsent = demsent.set_index(\"date\")\n",
    "demsent = demsent.drop(columns = ['Unnamed: 0'])\n",
    "repsent = repsent.set_index(\"date\")\n",
    "repsent = repsent.drop(columns = ['Unnamed: 0'])\n",
    "\n",
    "xlk = yf.download(\"XLK\")\n",
    "xlv = yf.download(\"XLV\")\n",
    "xlf = yf.download(\"XLF\")\n",
    "xly = yf.download(\"XLY\")\n",
    "xli = yf.download(\"XLI\")\n",
    "xlp = yf.download(\"XLP\")\n",
    "xlu = yf.download(\"XLU\")\n",
    "xle = yf.download(\"XLE\")\n",
    "xlc = yf.download(\"XLC\")\n"
   ]
  },
  {
   "cell_type": "code",
   "execution_count": 3,
   "metadata": {},
   "outputs": [
    {
     "data": {
      "text/html": [
       "<div>\n",
       "<style scoped>\n",
       "    .dataframe tbody tr th:only-of-type {\n",
       "        vertical-align: middle;\n",
       "    }\n",
       "\n",
       "    .dataframe tbody tr th {\n",
       "        vertical-align: top;\n",
       "    }\n",
       "\n",
       "    .dataframe thead th {\n",
       "        text-align: right;\n",
       "    }\n",
       "</style>\n",
       "<table border=\"1\" class=\"dataframe\">\n",
       "  <thead>\n",
       "    <tr style=\"text-align: right;\">\n",
       "      <th></th>\n",
       "      <th>Open</th>\n",
       "      <th>High</th>\n",
       "      <th>Low</th>\n",
       "      <th>Close</th>\n",
       "      <th>Adj Close</th>\n",
       "      <th>Volume</th>\n",
       "      <th>Log Returns</th>\n",
       "    </tr>\n",
       "    <tr>\n",
       "      <th>Date</th>\n",
       "      <th></th>\n",
       "      <th></th>\n",
       "      <th></th>\n",
       "      <th></th>\n",
       "      <th></th>\n",
       "      <th></th>\n",
       "      <th></th>\n",
       "    </tr>\n",
       "  </thead>\n",
       "  <tbody>\n",
       "    <tr>\n",
       "      <th>1993-01-29</th>\n",
       "      <td>43.96875</td>\n",
       "      <td>43.96875</td>\n",
       "      <td>43.75000</td>\n",
       "      <td>43.93750</td>\n",
       "      <td>26.079659</td>\n",
       "      <td>1003200</td>\n",
       "      <td>NaN</td>\n",
       "    </tr>\n",
       "    <tr>\n",
       "      <th>1993-02-01</th>\n",
       "      <td>43.96875</td>\n",
       "      <td>44.25000</td>\n",
       "      <td>43.96875</td>\n",
       "      <td>44.25000</td>\n",
       "      <td>26.265144</td>\n",
       "      <td>480500</td>\n",
       "      <td>0.007087</td>\n",
       "    </tr>\n",
       "    <tr>\n",
       "      <th>1993-02-02</th>\n",
       "      <td>44.21875</td>\n",
       "      <td>44.37500</td>\n",
       "      <td>44.12500</td>\n",
       "      <td>44.34375</td>\n",
       "      <td>26.320782</td>\n",
       "      <td>201300</td>\n",
       "      <td>0.002116</td>\n",
       "    </tr>\n",
       "    <tr>\n",
       "      <th>1993-02-03</th>\n",
       "      <td>44.40625</td>\n",
       "      <td>44.84375</td>\n",
       "      <td>44.37500</td>\n",
       "      <td>44.81250</td>\n",
       "      <td>26.599014</td>\n",
       "      <td>529400</td>\n",
       "      <td>0.010515</td>\n",
       "    </tr>\n",
       "    <tr>\n",
       "      <th>1993-02-04</th>\n",
       "      <td>44.96875</td>\n",
       "      <td>45.09375</td>\n",
       "      <td>44.46875</td>\n",
       "      <td>45.00000</td>\n",
       "      <td>26.710312</td>\n",
       "      <td>531500</td>\n",
       "      <td>0.004175</td>\n",
       "    </tr>\n",
       "  </tbody>\n",
       "</table>\n",
       "</div>"
      ],
      "text/plain": [
       "                Open      High       Low     Close  Adj Close   Volume  \\\n",
       "Date                                                                     \n",
       "1993-01-29  43.96875  43.96875  43.75000  43.93750  26.079659  1003200   \n",
       "1993-02-01  43.96875  44.25000  43.96875  44.25000  26.265144   480500   \n",
       "1993-02-02  44.21875  44.37500  44.12500  44.34375  26.320782   201300   \n",
       "1993-02-03  44.40625  44.84375  44.37500  44.81250  26.599014   529400   \n",
       "1993-02-04  44.96875  45.09375  44.46875  45.00000  26.710312   531500   \n",
       "\n",
       "            Log Returns  \n",
       "Date                     \n",
       "1993-01-29          NaN  \n",
       "1993-02-01     0.007087  \n",
       "1993-02-02     0.002116  \n",
       "1993-02-03     0.010515  \n",
       "1993-02-04     0.004175  "
      ]
     },
     "execution_count": 3,
     "metadata": {},
     "output_type": "execute_result"
    }
   ],
   "source": [
    "listOfFunds = [spy , xlk , xlv, xlf, xly , xli, xlp, xlu, xle, xlc]\n",
    "EtfNames = [\"spy\" , \"xlk\" , \"xlv\", \"xlf\", \"xly\" , \"xli\", \"xlp\", \"xlu\", \"xle\", \"xlc\"]\n",
    "for etf in listOfFunds:\n",
    "    etf[\"Log Returns\"] = np.log(etf[\"Close\"]/etf[\"Close\"].shift(1))\n",
    "spy.head()"
   ]
  },
  {
   "cell_type": "code",
   "execution_count": 263,
   "metadata": {},
   "outputs": [],
   "source": [
    "# get correct indicies\n",
    "spy , xlk , xlv, xlf, xly , xli, xlp, xlu, xle, xlc = spy['2020-10-01':'2020-11-29'] , xlk['2020-10-01':'2020-11-29'] , xlv['2020-10-01':'2020-11-29'], xlf['2020-10-01':'2020-11-29'], xly['2020-10-01':'2020-11-29'] , xli['2020-10-01':'2020-11-29'], xlp['2020-10-01':'2020-11-29'], xlu['2020-10-01':'2020-11-29'], xle['2020-10-01':'2020-11-29'], xlc['2020-10-01':'2020-11-29']\n",
    "spy.tail()\n",
    "listOfFunds = [spy , xlk , xlv, xlf, xly , xli, xlp, xlu, xle, xlc]\n"
   ]
  },
  {
   "cell_type": "code",
   "execution_count": 240,
   "metadata": {},
   "outputs": [],
   "source": [
    "def cor(sentiment, logReturns, lag = 0):\n",
    "    '''Returns the correlation between the two timeseries with given lag.'''\n",
    "    cor = logReturns.corr(sentiment.shift(lag))\n",
    "    return cor"
   ]
  },
  {
   "cell_type": "code",
   "execution_count": 241,
   "metadata": {},
   "outputs": [],
   "source": [
    "#Get maximum correlation for each party and etf\n",
    "demMax = {}\n",
    "repMax = {}\n",
    "for party in [repsent, demsent]:\n",
    "    demParty = party is demsent\n",
    "    for i, fund in enumerate(listOfFunds):\n",
    "        sent, returns = party[\"sentiment score\"], fund[\"Log Returns\"]\n",
    "        maxCor = max([[cor(sent, returns, x), abs(cor(sent, returns, x)), x] for x in range(10)], key = lambda x: x[1])\n",
    "        etfName = EtfNames[i]\n",
    "        if demParty:\n",
    "            demMax[etfName] = {\"correlation\": maxCor[0], \"shift\": maxCor[2]}\n",
    "        else:\n",
    "            repMax[etfName] = {\"correlation\": maxCor[0], \"shift\": maxCor[2]}"
   ]
  },
  {
   "cell_type": "code",
   "execution_count": 246,
   "metadata": {},
   "outputs": [
    {
     "name": "stderr",
     "output_type": "stream",
     "text": [
      "C:\\Users\\smuke\\anaconda3\\lib\\site-packages\\statsmodels\\tsa\\base\\tsa_model.py:216: ValueWarning: A date index has been provided, but it has no associated frequency information and so will be ignored when e.g. forecasting.\n",
      "  warnings.warn('A date index has been provided, but it has no'\n",
      "C:\\Users\\smuke\\anaconda3\\lib\\site-packages\\statsmodels\\tsa\\base\\tsa_model.py:216: ValueWarning: A date index has been provided, but it has no associated frequency information and so will be ignored when e.g. forecasting.\n",
      "  warnings.warn('A date index has been provided, but it has no'\n",
      "C:\\Users\\smuke\\anaconda3\\lib\\site-packages\\statsmodels\\tsa\\base\\tsa_model.py:216: ValueWarning: A date index has been provided, but it has no associated frequency information and so will be ignored when e.g. forecasting.\n",
      "  warnings.warn('A date index has been provided, but it has no'\n",
      "C:\\Users\\smuke\\anaconda3\\lib\\site-packages\\statsmodels\\tsa\\base\\tsa_model.py:216: ValueWarning: A date index has been provided, but it has no associated frequency information and so will be ignored when e.g. forecasting.\n",
      "  warnings.warn('A date index has been provided, but it has no'\n",
      "C:\\Users\\smuke\\anaconda3\\lib\\site-packages\\statsmodels\\tsa\\base\\tsa_model.py:216: ValueWarning: A date index has been provided, but it has no associated frequency information and so will be ignored when e.g. forecasting.\n",
      "  warnings.warn('A date index has been provided, but it has no'\n"
     ]
    },
    {
     "data": {
      "text/plain": [
       "-7.521520543054667"
      ]
     },
     "execution_count": 246,
     "metadata": {},
     "output_type": "execute_result"
    }
   ],
   "source": [
    "repCorDf = pd.DataFrame(data=repMax).T\n",
    "demCorDf = pd.DataFrame(data=demMax).T\n",
    "\n",
    "AutoReg(spy[\"Log Returns\"], exog=repsent[\"sentiment score\"], lags=8).fit().bic\n",
    "AutoReg(xlk[\"Log Returns\"], exog=repsent[\"sentiment score\"], lags=8).fit().bic\n",
    "AutoReg(xlv[\"Log Returns\"], exog=repsent[\"sentiment score\"], lags=8).fit().bic\n",
    "AutoReg(xlp[\"Log Returns\"], exog=repsent[\"sentiment score\"], lags=8).fit().bic\n",
    "AutoReg(xlc[\"Log Returns\"], exog=repsent[\"sentiment score\"], lags=8).fit().bic\n",
    "\n",
    "# repCorDf"
   ]
  },
  {
   "cell_type": "code",
   "execution_count": 266,
   "metadata": {},
   "outputs": [
    {
     "name": "stdout",
     "output_type": "stream",
     "text": [
      "Dem ADF test\n",
      "ADF Statistic: -6.262063\n",
      "ADF p-value: 0.000000\n",
      "\n",
      "Rep ADF test\n",
      "ADF Statistic: -2.987801\n",
      "ADF p-value: 0.036049\n",
      "\n",
      "spy ADF test\n",
      "ADF Statistic: -3.048336\n",
      "ADF p-value: 0.030620\n",
      "\n",
      "xlk ADF test\n",
      "ADF Statistic: -3.274260\n",
      "ADF p-value: 0.016069\n",
      "\n",
      "xlv ADF test\n",
      "ADF Statistic: -5.397231\n",
      "ADF p-value: 0.000003\n",
      "\n",
      "xlf ADF test\n",
      "ADF Statistic: -6.327157\n",
      "ADF p-value: 0.000000\n",
      "\n",
      "xly ADF test\n",
      "ADF Statistic: -6.640880\n",
      "ADF p-value: 0.000000\n",
      "\n",
      "xli ADF test\n",
      "ADF Statistic: -5.671645\n",
      "ADF p-value: 0.000001\n",
      "\n",
      "xlp ADF test\n",
      "ADF Statistic: -5.349975\n",
      "ADF p-value: 0.000004\n",
      "\n",
      "xlu ADF test\n",
      "ADF Statistic: -5.657926\n",
      "ADF p-value: 0.000001\n",
      "\n",
      "xle ADF test\n",
      "ADF Statistic: -1.968537\n",
      "ADF p-value: 0.300537\n",
      "\n",
      "xlc ADF test\n",
      "ADF Statistic: -7.235476\n",
      "ADF p-value: 0.000000\n",
      "\n"
     ]
    }
   ],
   "source": [
    "from statsmodels.tsa.stattools import adfuller\n",
    "result = adfuller(demsent.values)\n",
    "#Testing if we can use the arima model with our data--all worked except XLE\n",
    "print(\"Dem ADF test\")\n",
    "print('ADF Statistic: %f' % result[0])\n",
    "print('ADF p-value: %f' % result[1] + \"\\n\")\n",
    "result = adfuller(repsent.values)\n",
    "print(\"Rep ADF test\")\n",
    "print('ADF Statistic: %f' % result[0])\n",
    "print('ADF p-value: %f' % result[1] + \"\\n\")\n",
    "\n",
    "for i, etf in enumerate(listOfFunds):\n",
    "    result = adfuller(etf[\"Log Returns\"].values)\n",
    "    print(EtfNames[i] + \" ADF test\")\n",
    "    print('ADF Statistic: %f' % result[0])\n",
    "    print('ADF p-value: %f' % result[1] + \"\\n\")"
   ]
  },
  {
   "cell_type": "markdown",
   "metadata": {},
   "source": [
    "## Model Creation"
   ]
  },
  {
   "cell_type": "code",
   "execution_count": 267,
   "metadata": {},
   "outputs": [],
   "source": [
    "from statsmodels.tsa.arima_model import ARIMA"
   ]
  },
  {
   "cell_type": "code",
   "execution_count": null,
   "metadata": {},
   "outputs": [
    {
     "name": "stdout",
     "output_type": "stream",
     "text": [
      "spy Dem predictive model\n"
     ]
    },
    {
     "name": "stderr",
     "output_type": "stream",
     "text": [
      "C:\\Users\\smuke\\anaconda3\\lib\\site-packages\\statsmodels\\tsa\\base\\tsa_model.py:216: ValueWarning: A date index has been provided, but it has no associated frequency information and so will be ignored when e.g. forecasting.\n",
      "  warnings.warn('A date index has been provided, but it has no'\n"
     ]
    },
    {
     "name": "stdout",
     "output_type": "stream",
     "text": [
      "                              ARMA Model Results                              \n",
      "==============================================================================\n",
      "Dep. Variable:            Log Returns   No. Observations:                   36\n",
      "Model:                     ARMA(1, 1)   Log Likelihood                 112.896\n",
      "Method:                       css-mle   S.D. of innovations              0.011\n",
      "Date:                Thu, 03 Dec 2020   AIC                           -215.792\n",
      "Time:                        19:31:24   BIC                           -207.874\n",
      "Sample:                             0   HQIC                          -213.028\n",
      "                                                                              \n",
      "=====================================================================================\n",
      "                        coef    std err          z      P>|z|      [0.025      0.975]\n",
      "-------------------------------------------------------------------------------------\n",
      "const                -0.0008      0.003     -0.320      0.749      -0.006       0.004\n",
      "sentiment score       0.0333      0.012      2.796      0.005       0.010       0.057\n",
      "ar.L1.Log Returns     0.4437      0.338      1.312      0.190      -0.219       1.106\n",
      "ma.L1.Log Returns    -0.2262      0.336     -0.672      0.501      -0.886       0.433\n",
      "                                    Roots                                    \n",
      "=============================================================================\n",
      "                  Real          Imaginary           Modulus         Frequency\n",
      "-----------------------------------------------------------------------------\n",
      "AR.1            2.2540           +0.0000j            2.2540            0.0000\n",
      "MA.1            4.4217           +0.0000j            4.4217            0.0000\n",
      "-----------------------------------------------------------------------------\n",
      "xlk Dem predictive model\n"
     ]
    },
    {
     "name": "stderr",
     "output_type": "stream",
     "text": [
      "C:\\Users\\smuke\\anaconda3\\lib\\site-packages\\statsmodels\\tsa\\base\\tsa_model.py:216: ValueWarning: A date index has been provided, but it has no associated frequency information and so will be ignored when e.g. forecasting.\n",
      "  warnings.warn('A date index has been provided, but it has no'\n"
     ]
    },
    {
     "name": "stdout",
     "output_type": "stream",
     "text": [
      "                              ARMA Model Results                              \n",
      "==============================================================================\n",
      "Dep. Variable:            Log Returns   No. Observations:                   36\n",
      "Model:                     ARMA(1, 1)   Log Likelihood                 100.117\n",
      "Method:                       css-mle   S.D. of innovations              0.015\n",
      "Date:                Thu, 03 Dec 2020   AIC                           -190.233\n",
      "Time:                        19:31:24   BIC                           -182.316\n",
      "Sample:                             0   HQIC                          -187.470\n",
      "                                                                              \n",
      "=====================================================================================\n",
      "                        coef    std err          z      P>|z|      [0.025      0.975]\n",
      "-------------------------------------------------------------------------------------\n",
      "const                -0.0017      0.003     -0.518      0.604      -0.008       0.005\n",
      "sentiment score       0.0346      0.017      1.982      0.048       0.000       0.069\n",
      "ar.L1.Log Returns     0.3199      0.522      0.613      0.540      -0.703       1.343\n",
      "ma.L1.Log Returns    -0.1862      0.523     -0.356      0.722      -1.210       0.838\n",
      "                                    Roots                                    \n",
      "=============================================================================\n",
      "                  Real          Imaginary           Modulus         Frequency\n",
      "-----------------------------------------------------------------------------\n",
      "AR.1            3.1259           +0.0000j            3.1259            0.0000\n",
      "MA.1            5.3718           +0.0000j            5.3718            0.0000\n",
      "-----------------------------------------------------------------------------\n",
      "xlv Dem predictive model\n"
     ]
    },
    {
     "name": "stderr",
     "output_type": "stream",
     "text": [
      "C:\\Users\\smuke\\anaconda3\\lib\\site-packages\\statsmodels\\tsa\\base\\tsa_model.py:216: ValueWarning: A date index has been provided, but it has no associated frequency information and so will be ignored when e.g. forecasting.\n",
      "  warnings.warn('A date index has been provided, but it has no'\n"
     ]
    },
    {
     "name": "stdout",
     "output_type": "stream",
     "text": [
      "                              ARMA Model Results                              \n",
      "==============================================================================\n",
      "Dep. Variable:            Log Returns   No. Observations:                   41\n",
      "Model:                     ARMA(1, 1)   Log Likelihood                 124.603\n",
      "Method:                       css-mle   S.D. of innovations              0.012\n",
      "Date:                Thu, 03 Dec 2020   AIC                           -239.207\n",
      "Time:                        19:31:25   BIC                           -230.639\n",
      "Sample:                             0   HQIC                          -236.087\n",
      "                                                                              \n",
      "=====================================================================================\n",
      "                        coef    std err          z      P>|z|      [0.025      0.975]\n",
      "-------------------------------------------------------------------------------------\n",
      "const                -0.0016      0.003     -0.622      0.534      -0.007       0.003\n",
      "sentiment score       0.0307      0.013      2.345      0.019       0.005       0.056\n",
      "ar.L1.Log Returns     0.2695      0.413      0.653      0.514      -0.540       1.079\n",
      "ma.L1.Log Returns    -0.0680      0.415     -0.164      0.870      -0.880       0.744\n",
      "                                    Roots                                    \n",
      "=============================================================================\n",
      "                  Real          Imaginary           Modulus         Frequency\n",
      "-----------------------------------------------------------------------------\n",
      "AR.1            3.7100           +0.0000j            3.7100            0.0000\n",
      "MA.1           14.7002           +0.0000j           14.7002            0.0000\n",
      "-----------------------------------------------------------------------------\n",
      "xlf Dem predictive model\n"
     ]
    },
    {
     "name": "stderr",
     "output_type": "stream",
     "text": [
      "C:\\Users\\smuke\\anaconda3\\lib\\site-packages\\statsmodels\\tsa\\base\\tsa_model.py:216: ValueWarning: A date index has been provided, but it has no associated frequency information and so will be ignored when e.g. forecasting.\n",
      "  warnings.warn('A date index has been provided, but it has no'\n"
     ]
    },
    {
     "name": "stdout",
     "output_type": "stream",
     "text": [
      "                              ARMA Model Results                              \n",
      "==============================================================================\n",
      "Dep. Variable:            Log Returns   No. Observations:                   36\n",
      "Model:                     ARMA(1, 1)   Log Likelihood                  96.043\n",
      "Method:                       css-mle   S.D. of innovations              0.016\n",
      "Date:                Thu, 03 Dec 2020   AIC                           -182.086\n",
      "Time:                        19:31:26   BIC                           -174.168\n",
      "Sample:                             0   HQIC                          -179.322\n",
      "                                                                              \n",
      "=====================================================================================\n",
      "                        coef    std err          z      P>|z|      [0.025      0.975]\n",
      "-------------------------------------------------------------------------------------\n",
      "const                -0.0021      0.002     -0.992      0.321      -0.006       0.002\n",
      "sentiment score       0.0635      0.020      3.228      0.001       0.025       0.102\n",
      "ar.L1.Log Returns     0.7728      0.132      5.853      0.000       0.514       1.032\n",
      "ma.L1.Log Returns    -0.9999      0.078    -12.754      0.000      -1.154      -0.846\n",
      "                                    Roots                                    \n",
      "=============================================================================\n",
      "                  Real          Imaginary           Modulus         Frequency\n",
      "-----------------------------------------------------------------------------\n",
      "AR.1            1.2940           +0.0000j            1.2940            0.0000\n",
      "MA.1            1.0001           +0.0000j            1.0001            0.0000\n",
      "-----------------------------------------------------------------------------\n",
      "xly Dem predictive model\n"
     ]
    },
    {
     "name": "stderr",
     "output_type": "stream",
     "text": [
      "C:\\Users\\smuke\\anaconda3\\lib\\site-packages\\statsmodels\\tsa\\base\\tsa_model.py:216: ValueWarning: A date index has been provided, but it has no associated frequency information and so will be ignored when e.g. forecasting.\n",
      "  warnings.warn('A date index has been provided, but it has no'\n"
     ]
    },
    {
     "name": "stdout",
     "output_type": "stream",
     "text": [
      "                              ARMA Model Results                              \n",
      "==============================================================================\n",
      "Dep. Variable:            Log Returns   No. Observations:                   36\n",
      "Model:                     ARMA(1, 1)   Log Likelihood                 109.807\n",
      "Method:                       css-mle   S.D. of innovations              0.011\n",
      "Date:                Thu, 03 Dec 2020   AIC                           -209.615\n",
      "Time:                        19:31:26   BIC                           -201.697\n",
      "Sample:                             0   HQIC                          -206.851\n",
      "                                                                              \n",
      "=====================================================================================\n",
      "                        coef    std err          z      P>|z|      [0.025      0.975]\n",
      "-------------------------------------------------------------------------------------\n",
      "const                -0.0008      0.002     -0.306      0.759      -0.006       0.004\n",
      "sentiment score       0.0253      0.013      1.954      0.051   -8.13e-05       0.051\n",
      "ar.L1.Log Returns     0.3378      0.483      0.700      0.484      -0.608       1.284\n",
      "ma.L1.Log Returns    -0.2181      0.475     -0.459      0.646      -1.149       0.713\n",
      "                                    Roots                                    \n",
      "=============================================================================\n",
      "                  Real          Imaginary           Modulus         Frequency\n",
      "-----------------------------------------------------------------------------\n",
      "AR.1            2.9600           +0.0000j            2.9600            0.0000\n",
      "MA.1            4.5842           +0.0000j            4.5842            0.0000\n",
      "-----------------------------------------------------------------------------\n",
      "xli Dem predictive model\n"
     ]
    },
    {
     "name": "stderr",
     "output_type": "stream",
     "text": [
      "C:\\Users\\smuke\\anaconda3\\lib\\site-packages\\statsmodels\\tsa\\base\\tsa_model.py:216: ValueWarning: A date index has been provided, but it has no associated frequency information and so will be ignored when e.g. forecasting.\n",
      "  warnings.warn('A date index has been provided, but it has no'\n"
     ]
    },
    {
     "name": "stdout",
     "output_type": "stream",
     "text": [
      "                              ARMA Model Results                              \n",
      "==============================================================================\n",
      "Dep. Variable:            Log Returns   No. Observations:                   36\n",
      "Model:                     ARMA(1, 1)   Log Likelihood                 103.544\n",
      "Method:                       css-mle   S.D. of innovations              0.014\n",
      "Date:                Thu, 03 Dec 2020   AIC                           -197.089\n",
      "Time:                        19:31:27   BIC                           -189.171\n",
      "Sample:                             0   HQIC                          -194.325\n",
      "                                                                              \n",
      "=====================================================================================\n",
      "                        coef    std err          z      P>|z|      [0.025      0.975]\n",
      "-------------------------------------------------------------------------------------\n",
      "const                -0.0009      0.003     -0.323      0.747      -0.006       0.005\n",
      "sentiment score       0.0460      0.015      3.044      0.002       0.016       0.076\n",
      "ar.L1.Log Returns    -0.5980      0.365     -1.636      0.102      -1.314       0.118\n",
      "ma.L1.Log Returns     0.7429      0.294      2.528      0.011       0.167       1.319\n",
      "                                    Roots                                    \n",
      "=============================================================================\n",
      "                  Real          Imaginary           Modulus         Frequency\n",
      "-----------------------------------------------------------------------------\n",
      "AR.1           -1.6723           +0.0000j            1.6723            0.5000\n",
      "MA.1           -1.3460           +0.0000j            1.3460            0.5000\n",
      "-----------------------------------------------------------------------------\n",
      "xlp Dem predictive model\n"
     ]
    },
    {
     "name": "stderr",
     "output_type": "stream",
     "text": [
      "C:\\Users\\smuke\\anaconda3\\lib\\site-packages\\statsmodels\\tsa\\base\\tsa_model.py:216: ValueWarning: A date index has been provided, but it has no associated frequency information and so will be ignored when e.g. forecasting.\n",
      "  warnings.warn('A date index has been provided, but it has no'\n",
      "C:\\Users\\smuke\\anaconda3\\lib\\site-packages\\statsmodels\\base\\model.py:547: HessianInversionWarning: Inverting hessian failed, no bse or cov_params available\n",
      "  warn('Inverting hessian failed, no bse or cov_params '\n",
      "C:\\Users\\smuke\\anaconda3\\lib\\site-packages\\statsmodels\\tsa\\arima_model.py:1490: RuntimeWarning: invalid value encountered in sqrt\n",
      "  return np.sqrt(np.diag(-inv(hess)))\n",
      "C:\\Users\\smuke\\anaconda3\\lib\\site-packages\\scipy\\stats\\_distn_infrastructure.py:1932: RuntimeWarning: invalid value encountered in less_equal\n",
      "  cond2 = cond0 & (x <= _a)\n",
      "C:\\Users\\smuke\\anaconda3\\lib\\site-packages\\statsmodels\\tsa\\base\\tsa_model.py:216: ValueWarning: A date index has been provided, but it has no associated frequency information and so will be ignored when e.g. forecasting.\n",
      "  warnings.warn('A date index has been provided, but it has no'\n"
     ]
    },
    {
     "name": "stdout",
     "output_type": "stream",
     "text": [
      "                              ARMA Model Results                              \n",
      "==============================================================================\n",
      "Dep. Variable:            Log Returns   No. Observations:                   40\n",
      "Model:                     ARMA(1, 1)   Log Likelihood                 132.275\n",
      "Method:                       css-mle   S.D. of innovations              0.009\n",
      "Date:                Thu, 03 Dec 2020   AIC                           -254.551\n",
      "Time:                        19:31:28   BIC                           -246.106\n",
      "Sample:                             0   HQIC                          -251.497\n",
      "                                                                              \n",
      "=====================================================================================\n",
      "                        coef    std err          z      P>|z|      [0.025      0.975]\n",
      "-------------------------------------------------------------------------------------\n",
      "const                -0.0005      0.002     -0.285      0.776      -0.004       0.003\n",
      "sentiment score       0.0166      0.010      1.678      0.093      -0.003       0.036\n",
      "ar.L1.Log Returns    -0.9830      0.082    -11.990      0.000      -1.144      -0.822\n",
      "ma.L1.Log Returns     1.0000        nan        nan        nan         nan         nan\n",
      "                                    Roots                                    \n",
      "=============================================================================\n",
      "                  Real          Imaginary           Modulus         Frequency\n",
      "-----------------------------------------------------------------------------\n",
      "AR.1           -1.0173           +0.0000j            1.0173            0.5000\n",
      "MA.1           -1.0000           +0.0000j            1.0000            0.5000\n",
      "-----------------------------------------------------------------------------\n",
      "xlu Dem predictive model\n",
      "                              ARMA Model Results                              \n",
      "==============================================================================\n",
      "Dep. Variable:            Log Returns   No. Observations:                   36\n",
      "Model:                     ARMA(1, 1)   Log Likelihood                 110.507\n",
      "Method:                       css-mle   S.D. of innovations              0.011\n",
      "Date:                Thu, 03 Dec 2020   AIC                           -211.014\n",
      "Time:                        19:31:28   BIC                           -203.097\n",
      "Sample:                             0   HQIC                          -208.251\n",
      "                                                                              \n",
      "=====================================================================================\n",
      "                        coef    std err          z      P>|z|      [0.025      0.975]\n",
      "-------------------------------------------------------------------------------------\n",
      "const                -0.0014      0.002     -0.575      0.566      -0.006       0.003\n",
      "sentiment score       0.0236      0.014      1.735      0.083      -0.003       0.050\n",
      "ar.L1.Log Returns    -0.0358      0.892     -0.040      0.968      -1.785       1.713\n",
      "ma.L1.Log Returns     0.1654      0.871      0.190      0.849      -1.542       1.873\n",
      "                                    Roots                                    \n",
      "=============================================================================\n",
      "                  Real          Imaginary           Modulus         Frequency\n",
      "-----------------------------------------------------------------------------\n",
      "AR.1          -27.9091           +0.0000j           27.9091            0.5000\n",
      "MA.1           -6.0473           +0.0000j            6.0473            0.5000\n",
      "-----------------------------------------------------------------------------\n",
      "xle Dem predictive model\n"
     ]
    },
    {
     "name": "stderr",
     "output_type": "stream",
     "text": [
      "C:\\Users\\smuke\\anaconda3\\lib\\site-packages\\statsmodels\\tsa\\base\\tsa_model.py:216: ValueWarning: A date index has been provided, but it has no associated frequency information and so will be ignored when e.g. forecasting.\n",
      "  warnings.warn('A date index has been provided, but it has no'\n"
     ]
    },
    {
     "name": "stdout",
     "output_type": "stream",
     "text": [
      "                              ARMA Model Results                              \n",
      "==============================================================================\n",
      "Dep. Variable:            Log Returns   No. Observations:                   36\n",
      "Model:                     ARMA(1, 1)   Log Likelihood                  75.139\n",
      "Method:                       css-mle   S.D. of innovations              0.030\n",
      "Date:                Thu, 03 Dec 2020   AIC                           -140.279\n",
      "Time:                        19:31:29   BIC                           -132.361\n",
      "Sample:                             0   HQIC                          -137.516\n",
      "                                                                              \n",
      "=====================================================================================\n",
      "                        coef    std err          z      P>|z|      [0.025      0.975]\n",
      "-------------------------------------------------------------------------------------\n",
      "const                -0.0030      0.006     -0.477      0.634      -0.015       0.009\n",
      "sentiment score       0.1181      0.034      3.525      0.000       0.052       0.184\n",
      "ar.L1.Log Returns    -0.1764      0.645     -0.274      0.784      -1.440       1.087\n",
      "ma.L1.Log Returns     0.3060      0.605      0.505      0.613      -0.881       1.493\n",
      "                                    Roots                                    \n",
      "=============================================================================\n",
      "                  Real          Imaginary           Modulus         Frequency\n",
      "-----------------------------------------------------------------------------\n",
      "AR.1           -5.6675           +0.0000j            5.6675            0.5000\n",
      "MA.1           -3.2679           +0.0000j            3.2679            0.5000\n",
      "-----------------------------------------------------------------------------\n",
      "xlc Dem predictive model\n"
     ]
    },
    {
     "name": "stderr",
     "output_type": "stream",
     "text": [
      "C:\\Users\\smuke\\anaconda3\\lib\\site-packages\\statsmodels\\tsa\\base\\tsa_model.py:216: ValueWarning: A date index has been provided, but it has no associated frequency information and so will be ignored when e.g. forecasting.\n",
      "  warnings.warn('A date index has been provided, but it has no'\n"
     ]
    },
    {
     "name": "stdout",
     "output_type": "stream",
     "text": [
      "                              ARMA Model Results                              \n",
      "==============================================================================\n",
      "Dep. Variable:            Log Returns   No. Observations:                   36\n",
      "Model:                     ARMA(1, 1)   Log Likelihood                 103.578\n",
      "Method:                       css-mle   S.D. of innovations              0.013\n",
      "Date:                Thu, 03 Dec 2020   AIC                           -197.156\n",
      "Time:                        19:31:30   BIC                           -189.238\n",
      "Sample:                             0   HQIC                          -194.392\n",
      "                                                                              \n",
      "=====================================================================================\n",
      "                        coef    std err          z      P>|z|      [0.025      0.975]\n",
      "-------------------------------------------------------------------------------------\n",
      "const              6.171e-05      0.001      0.044      0.965      -0.003       0.003\n",
      "sentiment score       0.0252      0.014      1.864      0.062      -0.001       0.052\n",
      "ar.L1.Log Returns     0.6802      0.136      4.987      0.000       0.413       0.947\n",
      "ma.L1.Log Returns    -1.0000      0.070    -14.258      0.000      -1.137      -0.863\n",
      "                                    Roots                                    \n",
      "=============================================================================\n",
      "                  Real          Imaginary           Modulus         Frequency\n",
      "-----------------------------------------------------------------------------\n",
      "AR.1            1.4702           +0.0000j            1.4702            0.0000\n",
      "MA.1            1.0000           +0.0000j            1.0000            0.0000\n",
      "-----------------------------------------------------------------------------\n",
      "spy Rep predictive model\n"
     ]
    },
    {
     "name": "stderr",
     "output_type": "stream",
     "text": [
      "C:\\Users\\smuke\\anaconda3\\lib\\site-packages\\statsmodels\\tsa\\base\\tsa_model.py:216: ValueWarning: A date index has been provided, but it has no associated frequency information and so will be ignored when e.g. forecasting.\n",
      "  warnings.warn('A date index has been provided, but it has no'\n"
     ]
    },
    {
     "name": "stdout",
     "output_type": "stream",
     "text": [
      "                              ARMA Model Results                              \n",
      "==============================================================================\n",
      "Dep. Variable:            Log Returns   No. Observations:                   34\n",
      "Model:                     ARMA(1, 1)   Log Likelihood                 106.030\n",
      "Method:                       css-mle   S.D. of innovations              0.011\n",
      "Date:                Thu, 03 Dec 2020   AIC                           -202.061\n",
      "Time:                        19:31:30   BIC                           -194.429\n",
      "Sample:                             0   HQIC                          -199.458\n",
      "                                                                              \n",
      "=====================================================================================\n",
      "                        coef    std err          z      P>|z|      [0.025      0.975]\n",
      "-------------------------------------------------------------------------------------\n",
      "const                 0.0046      0.003      1.392      0.164      -0.002       0.011\n",
      "sentiment score       0.0592      0.021      2.824      0.005       0.018       0.100\n",
      "ar.L1.Log Returns     0.6061      0.252      2.404      0.016       0.112       1.100\n",
      "ma.L1.Log Returns    -0.3231      0.281     -1.149      0.251      -0.874       0.228\n",
      "                                    Roots                                    \n",
      "=============================================================================\n",
      "                  Real          Imaginary           Modulus         Frequency\n",
      "-----------------------------------------------------------------------------\n",
      "AR.1            1.6498           +0.0000j            1.6498            0.0000\n",
      "MA.1            3.0946           +0.0000j            3.0946            0.0000\n",
      "-----------------------------------------------------------------------------\n",
      "xlk Rep predictive model\n"
     ]
    },
    {
     "name": "stderr",
     "output_type": "stream",
     "text": [
      "C:\\Users\\smuke\\anaconda3\\lib\\site-packages\\statsmodels\\tsa\\base\\tsa_model.py:216: ValueWarning: A date index has been provided, but it has no associated frequency information and so will be ignored when e.g. forecasting.\n",
      "  warnings.warn('A date index has been provided, but it has no'\n"
     ]
    },
    {
     "name": "stdout",
     "output_type": "stream",
     "text": [
      "                              ARMA Model Results                              \n",
      "==============================================================================\n",
      "Dep. Variable:            Log Returns   No. Observations:                   40\n",
      "Model:                     ARMA(1, 1)   Log Likelihood                 111.503\n",
      "Method:                       css-mle   S.D. of innovations              0.015\n",
      "Date:                Thu, 03 Dec 2020   AIC                           -213.006\n",
      "Time:                        19:31:31   BIC                           -204.561\n",
      "Sample:                             0   HQIC                          -209.953\n",
      "                                                                              \n",
      "=====================================================================================\n",
      "                        coef    std err          z      P>|z|      [0.025      0.975]\n",
      "-------------------------------------------------------------------------------------\n",
      "const                 0.0040      0.002      1.688      0.091      -0.001       0.009\n",
      "sentiment score       0.0629      0.025      2.523      0.012       0.014       0.112\n",
      "ar.L1.Log Returns    -0.6687      0.257     -2.605      0.009      -1.172      -0.166\n",
      "ma.L1.Log Returns     0.4790      0.277      1.726      0.084      -0.065       1.023\n",
      "                                    Roots                                    \n",
      "=============================================================================\n",
      "                  Real          Imaginary           Modulus         Frequency\n",
      "-----------------------------------------------------------------------------\n",
      "AR.1           -1.4955           +0.0000j            1.4955            0.5000\n",
      "MA.1           -2.0877           +0.0000j            2.0877            0.5000\n",
      "-----------------------------------------------------------------------------\n",
      "xlv Rep predictive model\n"
     ]
    },
    {
     "name": "stderr",
     "output_type": "stream",
     "text": [
      "C:\\Users\\smuke\\anaconda3\\lib\\site-packages\\statsmodels\\tsa\\base\\tsa_model.py:216: ValueWarning: A date index has been provided, but it has no associated frequency information and so will be ignored when e.g. forecasting.\n",
      "  warnings.warn('A date index has been provided, but it has no'\n"
     ]
    },
    {
     "name": "stdout",
     "output_type": "stream",
     "text": [
      "                              ARMA Model Results                              \n",
      "==============================================================================\n",
      "Dep. Variable:            Log Returns   No. Observations:                   41\n",
      "Model:                     ARMA(1, 1)   Log Likelihood                 123.422\n",
      "Method:                       css-mle   S.D. of innovations              0.012\n",
      "Date:                Thu, 03 Dec 2020   AIC                           -236.845\n",
      "Time:                        19:31:31   BIC                           -228.277\n",
      "Sample:                             0   HQIC                          -233.725\n",
      "                                                                              \n",
      "=====================================================================================\n",
      "                        coef    std err          z      P>|z|      [0.025      0.975]\n",
      "-------------------------------------------------------------------------------------\n",
      "const                 0.0027      0.002      1.131      0.258      -0.002       0.007\n",
      "sentiment score       0.0344      0.020      1.682      0.093      -0.006       0.075\n",
      "ar.L1.Log Returns     0.4278      0.522      0.820      0.412      -0.595       1.450\n",
      "ma.L1.Log Returns    -0.3494      0.527     -0.663      0.507      -1.382       0.683\n",
      "                                    Roots                                    \n",
      "=============================================================================\n",
      "                  Real          Imaginary           Modulus         Frequency\n",
      "-----------------------------------------------------------------------------\n",
      "AR.1            2.3378           +0.0000j            2.3378            0.0000\n",
      "MA.1            2.8621           +0.0000j            2.8621            0.0000\n",
      "-----------------------------------------------------------------------------\n",
      "xlf Rep predictive model\n"
     ]
    },
    {
     "name": "stderr",
     "output_type": "stream",
     "text": [
      "C:\\Users\\smuke\\anaconda3\\lib\\site-packages\\statsmodels\\tsa\\base\\tsa_model.py:216: ValueWarning: A date index has been provided, but it has no associated frequency information and so will be ignored when e.g. forecasting.\n",
      "  warnings.warn('A date index has been provided, but it has no'\n"
     ]
    },
    {
     "name": "stdout",
     "output_type": "stream",
     "text": [
      "                              ARMA Model Results                              \n",
      "==============================================================================\n",
      "Dep. Variable:            Log Returns   No. Observations:                   38\n",
      "Model:                     ARMA(1, 1)   Log Likelihood                  97.647\n",
      "Method:                       css-mle   S.D. of innovations              0.019\n",
      "Date:                Thu, 03 Dec 2020   AIC                           -185.294\n",
      "Time:                        19:31:32   BIC                           -177.106\n",
      "Sample:                             0   HQIC                          -182.381\n",
      "                                                                              \n",
      "=====================================================================================\n",
      "                        coef    std err          z      P>|z|      [0.025      0.975]\n",
      "-------------------------------------------------------------------------------------\n",
      "const                 0.0059      0.003      1.741      0.082      -0.001       0.013\n",
      "sentiment score       0.0423      0.033      1.268      0.205      -0.023       0.108\n",
      "ar.L1.Log Returns    -0.6215      1.009     -0.616      0.538      -2.600       1.357\n",
      "ma.L1.Log Returns     0.5871      1.038      0.566      0.572      -1.447       2.621\n",
      "                                    Roots                                    \n",
      "=============================================================================\n",
      "                  Real          Imaginary           Modulus         Frequency\n",
      "-----------------------------------------------------------------------------\n",
      "AR.1           -1.6090           +0.0000j            1.6090            0.5000\n",
      "MA.1           -1.7034           +0.0000j            1.7034            0.5000\n",
      "-----------------------------------------------------------------------------\n",
      "xly Rep predictive model\n"
     ]
    },
    {
     "name": "stderr",
     "output_type": "stream",
     "text": [
      "C:\\Users\\smuke\\anaconda3\\lib\\site-packages\\statsmodels\\tsa\\base\\tsa_model.py:216: ValueWarning: A date index has been provided, but it has no associated frequency information and so will be ignored when e.g. forecasting.\n",
      "  warnings.warn('A date index has been provided, but it has no'\n"
     ]
    },
    {
     "name": "stdout",
     "output_type": "stream",
     "text": [
      "                              ARMA Model Results                              \n",
      "==============================================================================\n",
      "Dep. Variable:            Log Returns   No. Observations:                   34\n",
      "Model:                     ARMA(1, 1)   Log Likelihood                 106.015\n",
      "Method:                       css-mle   S.D. of innovations              0.011\n",
      "Date:                Thu, 03 Dec 2020   AIC                           -202.030\n",
      "Time:                        19:31:32   BIC                           -194.398\n",
      "Sample:                             0   HQIC                          -199.427\n",
      "                                                                              \n",
      "=====================================================================================\n",
      "                        coef    std err          z      P>|z|      [0.025      0.975]\n",
      "-------------------------------------------------------------------------------------\n",
      "const                 0.0051      0.003      1.448      0.148      -0.002       0.012\n",
      "sentiment score       0.0774      0.022      3.561      0.000       0.035       0.120\n",
      "ar.L1.Log Returns     0.5190      0.280      1.855      0.064      -0.029       1.067\n",
      "ma.L1.Log Returns    -0.1239      0.321     -0.386      0.700      -0.753       0.506\n",
      "                                    Roots                                    \n",
      "=============================================================================\n",
      "                  Real          Imaginary           Modulus         Frequency\n",
      "-----------------------------------------------------------------------------\n",
      "AR.1            1.9268           +0.0000j            1.9268            0.0000\n",
      "MA.1            8.0705           +0.0000j            8.0705            0.0000\n",
      "-----------------------------------------------------------------------------\n",
      "xli Rep predictive model\n"
     ]
    },
    {
     "name": "stderr",
     "output_type": "stream",
     "text": [
      "C:\\Users\\smuke\\anaconda3\\lib\\site-packages\\statsmodels\\tsa\\base\\tsa_model.py:216: ValueWarning: A date index has been provided, but it has no associated frequency information and so will be ignored when e.g. forecasting.\n",
      "  warnings.warn('A date index has been provided, but it has no'\n",
      "C:\\Users\\smuke\\anaconda3\\lib\\site-packages\\statsmodels\\base\\model.py:547: HessianInversionWarning: Inverting hessian failed, no bse or cov_params available\n",
      "  warn('Inverting hessian failed, no bse or cov_params '\n",
      "C:\\Users\\smuke\\anaconda3\\lib\\site-packages\\statsmodels\\tsa\\arima_model.py:1490: RuntimeWarning: invalid value encountered in sqrt\n",
      "  return np.sqrt(np.diag(-inv(hess)))\n",
      "C:\\Users\\smuke\\anaconda3\\lib\\site-packages\\scipy\\stats\\_distn_infrastructure.py:1932: RuntimeWarning: invalid value encountered in less_equal\n",
      "  cond2 = cond0 & (x <= _a)\n"
     ]
    },
    {
     "name": "stdout",
     "output_type": "stream",
     "text": [
      "                              ARMA Model Results                              \n",
      "==============================================================================\n",
      "Dep. Variable:            Log Returns   No. Observations:                   34\n",
      "Model:                     ARMA(1, 1)   Log Likelihood                  94.157\n",
      "Method:                       css-mle   S.D. of innovations              0.015\n",
      "Date:                Thu, 03 Dec 2020   AIC                           -178.313\n",
      "Time:                        19:31:33   BIC                           -170.681\n",
      "Sample:                             0   HQIC                          -175.711\n",
      "                                                                              \n",
      "=====================================================================================\n",
      "                        coef    std err          z      P>|z|      [0.025      0.975]\n",
      "-------------------------------------------------------------------------------------\n",
      "const                 0.0048      0.003      1.591      0.112      -0.001       0.011\n",
      "sentiment score       0.0417      0.031      1.368      0.171      -0.018       0.102\n",
      "ar.L1.Log Returns    -0.9433      0.140     -6.720      0.000      -1.218      -0.668\n",
      "ma.L1.Log Returns     1.0000        nan        nan        nan         nan         nan\n",
      "                                    Roots                                    \n",
      "=============================================================================\n",
      "                  Real          Imaginary           Modulus         Frequency\n",
      "-----------------------------------------------------------------------------\n",
      "AR.1           -1.0601           +0.0000j            1.0601            0.5000\n",
      "MA.1           -1.0000           +0.0000j            1.0000            0.5000\n",
      "-----------------------------------------------------------------------------\n",
      "xlp Rep predictive model\n"
     ]
    },
    {
     "name": "stderr",
     "output_type": "stream",
     "text": [
      "C:\\Users\\smuke\\anaconda3\\lib\\site-packages\\statsmodels\\tsa\\base\\tsa_model.py:216: ValueWarning: A date index has been provided, but it has no associated frequency information and so will be ignored when e.g. forecasting.\n",
      "  warnings.warn('A date index has been provided, but it has no'\n"
     ]
    },
    {
     "name": "stdout",
     "output_type": "stream",
     "text": [
      "                              ARMA Model Results                              \n",
      "==============================================================================\n",
      "Dep. Variable:            Log Returns   No. Observations:                   34\n",
      "Model:                     ARMA(1, 1)   Log Likelihood                 117.105\n",
      "Method:                       css-mle   S.D. of innovations              0.008\n",
      "Date:                Thu, 03 Dec 2020   AIC                           -224.210\n",
      "Time:                        19:31:33   BIC                           -216.578\n",
      "Sample:                             0   HQIC                          -221.607\n",
      "                                                                              \n",
      "=====================================================================================\n",
      "                        coef    std err          z      P>|z|      [0.025      0.975]\n",
      "-------------------------------------------------------------------------------------\n",
      "const                 0.0037      0.003      1.451      0.147      -0.001       0.009\n",
      "sentiment score       0.0583      0.014      4.060      0.000       0.030       0.087\n",
      "ar.L1.Log Returns     0.6172      0.262      2.352      0.019       0.103       1.132\n",
      "ma.L1.Log Returns    -0.2910      0.304     -0.956      0.339      -0.888       0.306\n",
      "                                    Roots                                    \n",
      "=============================================================================\n",
      "                  Real          Imaginary           Modulus         Frequency\n",
      "-----------------------------------------------------------------------------\n",
      "AR.1            1.6201           +0.0000j            1.6201            0.0000\n",
      "MA.1            3.4362           +0.0000j            3.4362            0.0000\n",
      "-----------------------------------------------------------------------------\n",
      "xlu Rep predictive model\n"
     ]
    },
    {
     "name": "stderr",
     "output_type": "stream",
     "text": [
      "C:\\Users\\smuke\\anaconda3\\lib\\site-packages\\statsmodels\\tsa\\base\\tsa_model.py:216: ValueWarning: A date index has been provided, but it has no associated frequency information and so will be ignored when e.g. forecasting.\n",
      "  warnings.warn('A date index has been provided, but it has no'\n"
     ]
    },
    {
     "name": "stdout",
     "output_type": "stream",
     "text": [
      "                              ARMA Model Results                              \n",
      "==============================================================================\n",
      "Dep. Variable:            Log Returns   No. Observations:                   34\n",
      "Model:                     ARMA(1, 1)   Log Likelihood                 107.784\n",
      "Method:                       css-mle   S.D. of innovations              0.010\n",
      "Date:                Thu, 03 Dec 2020   AIC                           -205.568\n",
      "Time:                        19:31:34   BIC                           -197.937\n",
      "Sample:                             0   HQIC                          -202.966\n",
      "                                                                              \n",
      "=====================================================================================\n",
      "                        coef    std err          z      P>|z|      [0.025      0.975]\n",
      "-------------------------------------------------------------------------------------\n",
      "const                 0.0030      0.002      1.519      0.129      -0.001       0.007\n",
      "sentiment score       0.0616      0.019      3.239      0.001       0.024       0.099\n",
      "ar.L1.Log Returns    -0.9994      0.054    -18.403      0.000      -1.106      -0.893\n",
      "ma.L1.Log Returns     1.0000      0.067     14.961      0.000       0.869       1.131\n",
      "                                    Roots                                    \n",
      "=============================================================================\n",
      "                  Real          Imaginary           Modulus         Frequency\n",
      "-----------------------------------------------------------------------------\n",
      "AR.1           -1.0006           +0.0000j            1.0006            0.5000\n",
      "MA.1           -1.0000           +0.0000j            1.0000            0.5000\n",
      "-----------------------------------------------------------------------------\n",
      "xle Rep predictive model\n"
     ]
    },
    {
     "name": "stderr",
     "output_type": "stream",
     "text": [
      "C:\\Users\\smuke\\anaconda3\\lib\\site-packages\\statsmodels\\tsa\\base\\tsa_model.py:216: ValueWarning: A date index has been provided, but it has no associated frequency information and so will be ignored when e.g. forecasting.\n",
      "  warnings.warn('A date index has been provided, but it has no'\n"
     ]
    },
    {
     "name": "stdout",
     "output_type": "stream",
     "text": [
      "                              ARMA Model Results                              \n",
      "==============================================================================\n",
      "Dep. Variable:            Log Returns   No. Observations:                   40\n",
      "Model:                     ARMA(1, 1)   Log Likelihood                  80.373\n",
      "Method:                       css-mle   S.D. of innovations              0.032\n",
      "Date:                Thu, 03 Dec 2020   AIC                           -150.746\n",
      "Time:                        19:31:35   BIC                           -142.301\n",
      "Sample:                             0   HQIC                          -147.692\n",
      "                                                                              \n",
      "=====================================================================================\n",
      "                        coef    std err          z      P>|z|      [0.025      0.975]\n",
      "-------------------------------------------------------------------------------------\n",
      "const                 0.0036      0.006      0.624      0.533      -0.008       0.015\n",
      "sentiment score      -0.0775      0.054     -1.429      0.153      -0.184       0.029\n",
      "ar.L1.Log Returns    -0.9405      0.080    -11.790      0.000      -1.097      -0.784\n",
      "ma.L1.Log Returns     0.9999      0.154      6.499      0.000       0.698       1.301\n",
      "                                    Roots                                    \n",
      "=============================================================================\n",
      "                  Real          Imaginary           Modulus         Frequency\n",
      "-----------------------------------------------------------------------------\n",
      "AR.1           -1.0633           +0.0000j            1.0633            0.5000\n",
      "MA.1           -1.0001           +0.0000j            1.0001            0.5000\n",
      "-----------------------------------------------------------------------------\n",
      "xlc Rep predictive model\n"
     ]
    },
    {
     "name": "stderr",
     "output_type": "stream",
     "text": [
      "C:\\Users\\smuke\\anaconda3\\lib\\site-packages\\statsmodels\\tsa\\base\\tsa_model.py:216: ValueWarning: A date index has been provided, but it has no associated frequency information and so will be ignored when e.g. forecasting.\n",
      "  warnings.warn('A date index has been provided, but it has no'\n"
     ]
    },
    {
     "name": "stdout",
     "output_type": "stream",
     "text": [
      "                              ARMA Model Results                              \n",
      "==============================================================================\n",
      "Dep. Variable:            Log Returns   No. Observations:                   34\n",
      "Model:                     ARMA(1, 1)   Log Likelihood                  95.105\n",
      "Method:                       css-mle   S.D. of innovations              0.015\n",
      "Date:                Thu, 03 Dec 2020   AIC                           -180.210\n",
      "Time:                        19:31:36   BIC                           -172.579\n",
      "Sample:                             0   HQIC                          -177.608\n",
      "                                                                              \n",
      "=====================================================================================\n",
      "                        coef    std err          z      P>|z|      [0.025      0.975]\n",
      "-------------------------------------------------------------------------------------\n",
      "const                 0.0047      0.003      1.500      0.134      -0.001       0.011\n",
      "sentiment score       0.0469      0.031      1.511      0.131      -0.014       0.108\n",
      "ar.L1.Log Returns     0.2031      0.859      0.236      0.813      -1.481       1.887\n",
      "ma.L1.Log Returns    -0.1432      0.852     -0.168      0.867      -1.814       1.527\n",
      "                                    Roots                                    \n",
      "=============================================================================\n",
      "                  Real          Imaginary           Modulus         Frequency\n",
      "-----------------------------------------------------------------------------\n",
      "AR.1            4.9232           +0.0000j            4.9232            0.0000\n",
      "MA.1            6.9821           +0.0000j            6.9821            0.0000\n",
      "-----------------------------------------------------------------------------\n"
     ]
    },
    {
     "name": "stderr",
     "output_type": "stream",
     "text": [
      "C:\\Users\\smuke\\anaconda3\\lib\\site-packages\\pandas\\plotting\\_matplotlib\\core.py:320: RuntimeWarning: More than 20 figures have been opened. Figures created through the pyplot interface (`matplotlib.pyplot.figure`) are retained until explicitly closed and may consume too much memory. (To control this warning, see the rcParam `figure.max_open_warning`).\n",
      "  fig = self.plt.figure(figsize=self.figsize)\n"
     ]
    },
    {
     "data": {
      "image/png": "[encoded data removed]",
      "text/plain": [
       "<Figure size 432x288 with 1 Axes>"
      ]
     },
     "metadata": {
      "needs_background": "light"
     },
     "output_type": "display_data"
    },
    {
     "data": {
      "image/png": "[encoded data removed]",
      "text/plain": [
       "<Figure size 432x288 with 1 Axes>"
      ]
     },
     "metadata": {
      "needs_background": "light"
     },
     "output_type": "display_data"
    },
    {
     "data": {
      "image/png": "[encoded data removed]",
      "text/plain": [
       "<Figure size 432x288 with 1 Axes>"
      ]
     },
     "metadata": {
      "needs_background": "light"
     },
     "output_type": "display_data"
    },
    {
     "data": {
      "image/png": "[encoded data removed]",
      "text/plain": [
       "<Figure size 432x288 with 1 Axes>"
      ]
     },
     "metadata": {
      "needs_background": "light"
     },
     "output_type": "display_data"
    },
    {
     "data": {
      "image/png": "[encoded data removed]",
      "text/plain": [
       "<Figure size 432x288 with 1 Axes>"
      ]
     },
     "metadata": {
      "needs_background": "light"
     },
     "output_type": "display_data"
    },
    {
     "data": {
      "image/png": "[encoded data removed]",
      "text/plain": [
       "<Figure size 432x288 with 1 Axes>"
      ]
     },
     "metadata": {
      "needs_background": "light"
     },
     "output_type": "display_data"
    },
    {
     "data": {
      "image/png": "[encoded data removed]",
      "text/plain": [
       "<Figure size 432x288 with 1 Axes>"
      ]
     },
     "metadata": {
      "needs_background": "light"
     },
     "output_type": "display_data"
    },
    {
     "data": {
      "image/png": "[encoded data removed]",
      "text/plain": [
       "<Figure size 432x288 with 1 Axes>"
      ]
     },
     "metadata": {
      "needs_background": "light"
     },
     "output_type": "display_data"
    },
    {
     "data": {
      "image/png": "[encoded data removed]",
      "text/plain": [
       "<Figure size 432x288 with 1 Axes>"
      ]
     },
     "metadata": {
      "needs_background": "light"
     },
     "output_type": "display_data"
    },
    {
     "data": {
      "image/png": "[encoded data removed]",
      "text/plain": [
       "<Figure size 432x288 with 1 Axes>"
      ]
     },
     "metadata": {
      "needs_background": "light"
     },
     "output_type": "display_data"
    },
    {
     "data": {
      "image/png": "[encoded data removed]",
      "text/plain": [
       "<Figure size 432x288 with 1 Axes>"
      ]
     },
     "metadata": {
      "needs_background": "light"
     },
     "output_type": "display_data"
    }
   ],
   "source": [
    "# SRC: https://machinelearningpy.com/time-series/arima-time-series-forecasting-python-exhaustive-guide/#Overview_of_ARIMA_Time_Series_Forecasting\n",
    "for i, etf in enumerate(listOfFunds):\n",
    "    EtfName = EtfNames[i]\n",
    "    print(EtfName, \"Dem predictive model\")\n",
    "    shift = int(demCorDf.loc[EtfName][\"shift\"])\n",
    "    exog_model = ARIMA(etf[\"Log Returns\"][shift:], exog=demsent.shift(shift).dropna(), order = (1, 0, 1)) \n",
    "    exog_fit = exog_model.fit()\n",
    "    print(exog_fit.summary())\n",
    "\n",
    "    residuals = pd.DataFrame(exog_fit.resid)\n",
    "    plt.plot(residuals)\n",
    "    plt.xticks(rotation=90)\n",
    "\n",
    "    # density plot\n",
    "    residuals.plot(kind='kde')\n",
    "    \n",
    "for i, etf in enumerate(listOfFunds):\n",
    "    EtfName = EtfNames[i]\n",
    "    print(EtfName, \"Rep predictive model\")\n",
    "    shift = int(repCorDf.loc[EtfName][\"shift\"])\n",
    "    exog_model = ARIMA(etf[\"Log Returns\"][shift:], exog=repsent.shift(shift).dropna(), order = (1, 0, 1)) \n",
    "    exog_fit = exog_model.fit()\n",
    "    print(exog_fit.summary())\n",
    "\n",
    "    residuals = pd.DataFrame(exog_fit.resid)\n",
    "    plt.plot(residuals)\n",
    "    plt.xticks(rotation=90)\n",
    "\n",
    "    # density plot\n",
    "    residuals.plot(kind='kde')\n"
   ]
  }
 ],
 "metadata": {
  "kernelspec": {
   "display_name": "Python 3",
   "language": "python",
   "name": "python3"
  },
  "language_info": {
   "codemirror_mode": {
    "name": "ipython",
    "version": 3
   },
   "file_extension": ".py",
   "mimetype": "text/x-python",
   "name": "python",
   "nbconvert_exporter": "python",
   "pygments_lexer": "ipython3",
   "version": "3.8.3"
  }
 },
 "nbformat": 4,
 "nbformat_minor": 4
}
