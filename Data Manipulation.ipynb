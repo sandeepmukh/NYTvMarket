{
 "cells": [
  {
   "cell_type": "markdown",
   "metadata": {},
   "source": [
    "# Correlating NYT Data with Market Data"
   ]
  },
  {
   "cell_type": "code",
   "execution_count": null,
   "metadata": {},
   "outputs": [],
   "source": []
  },
  {
   "cell_type": "markdown",
   "metadata": {},
   "source": [
    "### Loading in Data"
   ]
  },
  {
   "cell_type": "code",
   "execution_count": 23,
   "metadata": {},
   "outputs": [],
   "source": [
    "import os\n",
    "import json\n",
    "import time\n",
    "import requests\n",
    "import datetime\n",
    "import dateutil\n",
    "import pandas as pd\n",
    "import glob\n",
    "import string\n",
    "from dateutil.relativedelta import relativedelta\n",
    "import numpy as np\n",
    "import yfinance as yf"
   ]
  },
  {
   "cell_type": "code",
   "execution_count": 61,
   "metadata": {},
   "outputs": [
    {
     "name": "stdout",
     "output_type": "stream",
     "text": [
      "[*********************100%***********************]  1 of 1 completed\n"
     ]
    }
   ],
   "source": [
    "spy = yf.download(\"SPY\")\n",
    "nyt = pd.read_csv(\"./Data/NYTDataCleaned.csv\", encoding = \"ISO-8859-1\")"
   ]
  },
  {
   "cell_type": "code",
   "execution_count": 63,
   "metadata": {},
   "outputs": [
    {
     "data": {
      "text/html": [
       "<div>\n",
       "<style scoped>\n",
       "    .dataframe tbody tr th:only-of-type {\n",
       "        vertical-align: middle;\n",
       "    }\n",
       "\n",
       "    .dataframe tbody tr th {\n",
       "        vertical-align: top;\n",
       "    }\n",
       "\n",
       "    .dataframe thead th {\n",
       "        text-align: right;\n",
       "    }\n",
       "</style>\n",
       "<table border=\"1\" class=\"dataframe\">\n",
       "  <thead>\n",
       "    <tr style=\"text-align: right;\">\n",
       "      <th></th>\n",
       "      <th>Open</th>\n",
       "      <th>High</th>\n",
       "      <th>Low</th>\n",
       "      <th>Close</th>\n",
       "      <th>Adj Close</th>\n",
       "      <th>Volume</th>\n",
       "    </tr>\n",
       "    <tr>\n",
       "      <th>Date</th>\n",
       "      <th></th>\n",
       "      <th></th>\n",
       "      <th></th>\n",
       "      <th></th>\n",
       "      <th></th>\n",
       "      <th></th>\n",
       "    </tr>\n",
       "  </thead>\n",
       "  <tbody>\n",
       "    <tr>\n",
       "      <th>2020-10-01</th>\n",
       "      <td>337.690002</td>\n",
       "      <td>338.739990</td>\n",
       "      <td>335.010010</td>\n",
       "      <td>337.040009</td>\n",
       "      <td>337.040009</td>\n",
       "      <td>88698700</td>\n",
       "    </tr>\n",
       "    <tr>\n",
       "      <th>2020-10-02</th>\n",
       "      <td>331.700012</td>\n",
       "      <td>337.010010</td>\n",
       "      <td>331.190002</td>\n",
       "      <td>333.839996</td>\n",
       "      <td>333.839996</td>\n",
       "      <td>89431100</td>\n",
       "    </tr>\n",
       "    <tr>\n",
       "      <th>2020-10-05</th>\n",
       "      <td>336.059998</td>\n",
       "      <td>339.959991</td>\n",
       "      <td>336.010010</td>\n",
       "      <td>339.760010</td>\n",
       "      <td>339.760010</td>\n",
       "      <td>45713100</td>\n",
       "    </tr>\n",
       "    <tr>\n",
       "      <th>2020-10-06</th>\n",
       "      <td>339.910004</td>\n",
       "      <td>342.170013</td>\n",
       "      <td>334.380005</td>\n",
       "      <td>334.929993</td>\n",
       "      <td>334.929993</td>\n",
       "      <td>90128900</td>\n",
       "    </tr>\n",
       "    <tr>\n",
       "      <th>2020-10-07</th>\n",
       "      <td>338.119995</td>\n",
       "      <td>341.630005</td>\n",
       "      <td>338.089996</td>\n",
       "      <td>340.760010</td>\n",
       "      <td>340.760010</td>\n",
       "      <td>56999600</td>\n",
       "    </tr>\n",
       "  </tbody>\n",
       "</table>\n",
       "</div>"
      ],
      "text/plain": [
       "                  Open        High         Low       Close   Adj Close  \\\n",
       "Date                                                                     \n",
       "2020-10-01  337.690002  338.739990  335.010010  337.040009  337.040009   \n",
       "2020-10-02  331.700012  337.010010  331.190002  333.839996  333.839996   \n",
       "2020-10-05  336.059998  339.959991  336.010010  339.760010  339.760010   \n",
       "2020-10-06  339.910004  342.170013  334.380005  334.929993  334.929993   \n",
       "2020-10-07  338.119995  341.630005  338.089996  340.760010  340.760010   \n",
       "\n",
       "              Volume  \n",
       "Date                  \n",
       "2020-10-01  88698700  \n",
       "2020-10-02  89431100  \n",
       "2020-10-05  45713100  \n",
       "2020-10-06  90128900  \n",
       "2020-10-07  56999600  "
      ]
     },
     "execution_count": 63,
     "metadata": {},
     "output_type": "execute_result"
    }
   ],
   "source": [
    "# Match nyt data to the data we have on SPY and combine them into one dataframe\n",
    "# spy = spy.iloc[6969:] # Remove this time\n",
    "spy.head()"
   ]
  }
 ],
 "metadata": {
  "kernelspec": {
   "display_name": "Python 3",
   "language": "python",
   "name": "python3"
  },
  "language_info": {
   "codemirror_mode": {
    "name": "ipython",
    "version": 3
   },
   "file_extension": ".py",
   "mimetype": "text/x-python",
   "name": "python",
   "nbconvert_exporter": "python",
   "pygments_lexer": "ipython3",
   "version": "3.8.3"
  }
 },
 "nbformat": 4,
 "nbformat_minor": 4
}
