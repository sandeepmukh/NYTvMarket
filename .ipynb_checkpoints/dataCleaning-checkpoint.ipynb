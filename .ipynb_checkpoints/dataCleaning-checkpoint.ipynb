{
 "cells": [
  {
   "cell_type": "markdown",
   "metadata": {},
   "source": [
    "# Data Cleaning\n",
    "city names source: https://simplemaps.com/data/us-cities"
   ]
  },
  {
   "cell_type": "code",
   "execution_count": 86,
   "metadata": {},
   "outputs": [],
   "source": [
    "import os\n",
    "import json\n",
    "import time\n",
    "import requests\n",
    "import datetime\n",
    "import dateutil\n",
    "import pandas as pd\n",
    "import glob\n",
    "import string\n",
    "from dateutil.relativedelta import relativedelta"
   ]
  },
  {
   "cell_type": "code",
   "execution_count": 59,
   "metadata": {},
   "outputs": [],
   "source": [
    "names = pd.read_csv(\"./Data/names.csv\", encoding = \"ISO-8859-1\")\n",
    "locations = pd.read_csv(\"./Data/uscities.csv\")\n",
    "articles = pd.read_csv(\"./headlines/NYTData.csv\")\n",
    "countries = pd.read_csv(\"./Data/countries.csv\")"
   ]
  },
  {
   "cell_type": "code",
   "execution_count": 94,
   "metadata": {},
   "outputs": [
    {
     "name": "stdout",
     "output_type": "stream",
     "text": [
      "12764\n"
     ]
    },
    {
     "data": {
      "text/plain": [
       "'Tech Isnt the Answer for Test Taking'"
      ]
     },
     "execution_count": 94,
     "metadata": {},
     "output_type": "execute_result"
    }
   ],
   "source": [
    "print(len(articles))\n",
    "articles.head()\n",
    "articles[articles[\"material_type\"] == \"News\"].head()\n",
    "\n",
    "articles.iloc[1][\"headline\"].replace(\"’\",\"\")"
   ]
  },
  {
   "cell_type": "code",
   "execution_count": 46,
   "metadata": {},
   "outputs": [],
   "source": [
    "# Formatting locations and creating a locationSet\n",
    "locationSet = {\"United States\"}\n",
    "# countries = countries.drop(columns=[\"Code\"])\n",
    "for country in countries.Name.values:\n",
    "    if len(country.split()) > 1:\n",
    "        locationSet.add(country.lower()) \n",
    "for location in locations.city.values:\n",
    "    if len(location.split()) > 1:\n",
    "        locationSet.add(location.lower()) \n",
    "for location in locations.state_name.values:\n",
    "    if len(location.split()) > 1:\n",
    "        locationSet.add(location.lower()) "
   ]
  },
  {
   "cell_type": "code",
   "execution_count": 47,
   "metadata": {},
   "outputs": [],
   "source": [
    "articles = articles.drop(columns=[\"doc_type\", \"material_type\", \"section\", \"keywords\"])\n",
    "articles = articles.dropna()\n",
    "names = names.drop(columns=[\"A\"])\n",
    "names = names.rename(columns = {\"Adele\":\"names\"})"
   ]
  },
  {
   "cell_type": "code",
   "execution_count": 48,
   "metadata": {},
   "outputs": [
    {
     "data": {
      "text/html": [
       "<div>\n",
       "<style scoped>\n",
       "    .dataframe tbody tr th:only-of-type {\n",
       "        vertical-align: middle;\n",
       "    }\n",
       "\n",
       "    .dataframe tbody tr th {\n",
       "        vertical-align: top;\n",
       "    }\n",
       "\n",
       "    .dataframe thead th {\n",
       "        text-align: right;\n",
       "    }\n",
       "</style>\n",
       "<table border=\"1\" class=\"dataframe\">\n",
       "  <thead>\n",
       "    <tr style=\"text-align: right;\">\n",
       "      <th></th>\n",
       "      <th>names</th>\n",
       "    </tr>\n",
       "  </thead>\n",
       "  <tbody>\n",
       "    <tr>\n",
       "      <th>0</th>\n",
       "      <td>Alf</td>\n",
       "    </tr>\n",
       "    <tr>\n",
       "      <th>1</th>\n",
       "      <td>Aristotle</td>\n",
       "    </tr>\n",
       "    <tr>\n",
       "      <th>2</th>\n",
       "      <td>Attenborough</td>\n",
       "    </tr>\n",
       "    <tr>\n",
       "      <th>3</th>\n",
       "      <td>Abigail Adams</td>\n",
       "    </tr>\n",
       "    <tr>\n",
       "      <th>4</th>\n",
       "      <td>Adam Arkin</td>\n",
       "    </tr>\n",
       "  </tbody>\n",
       "</table>\n",
       "</div>"
      ],
      "text/plain": [
       "           names\n",
       "0            Alf\n",
       "1      Aristotle\n",
       "2   Attenborough\n",
       "3  Abigail Adams\n",
       "4     Adam Arkin"
      ]
     },
     "execution_count": 48,
     "metadata": {},
     "output_type": "execute_result"
    }
   ],
   "source": [
    "# How to check is a word is in the dataframe\n",
    "# 'Adele' in names.names.values\n",
    "names.head()"
   ]
  },
  {
   "cell_type": "code",
   "execution_count": 49,
   "metadata": {},
   "outputs": [],
   "source": [
    "#Removing punctuation from headlines\n",
    "for i in range(len(articles)):\n",
    "    text = articles.iloc[i][0].translate(str.maketrans('', '', string.punctuation)).lower()\n",
    "    text = unidecode(unicode(text, encoding = \"utf-8\"))\n",
    "    articles.iloc[i][0] = text"
   ]
  },
  {
   "cell_type": "code",
   "execution_count": 53,
   "metadata": {},
   "outputs": [],
   "source": [
    "#Group by every day\n",
    "articles = articles.groupby([\"date\"]).agg(lambda s: \" \".join(s))"
   ]
  },
  {
   "cell_type": "code",
   "execution_count": 54,
   "metadata": {},
   "outputs": [],
   "source": [
    "#Formatting names\n",
    "i = 0\n",
    "nameSet = {\"TESTSTRING\"}\n",
    "nameSet.remove(\"TESTSTRING\")\n",
    "for name in names.names.values:\n",
    "    names[\"names\"][i] = name.lower()\n",
    "    i += 1\n",
    "    nameSet.add(name)"
   ]
  },
  {
   "cell_type": "code",
   "execution_count": null,
   "metadata": {},
   "outputs": [],
   "source": [
    "#Testing below\n",
    "# d = {'col1': [1, 2], 'headline': [\"hi hi hi hi hi hi\", \"potato potato potato hi hi hi hi\"]}\n",
    "# testdf = pd.DataFrame(data=d)\n",
    "# for i in range(len(testdf)):\n",
    "#     s = {}\n",
    "#     for name in nameSet:\n",
    "#         if name in testdf[\"headline\"][i]:\n",
    "#             if name in s:\n",
    "#                 s[name] += 1\n",
    "#             else:\n",
    "#                 s[name] = 1\n",
    "#             testdf[\"headline\"][i].replace(name, \"\")\n",
    "#     for name in locationSet:\n",
    "#         if name in testdf[\"headline\"][i]:\n",
    "#             if name in s:\n",
    "#                 s[name] += 1\n",
    "#             else:\n",
    "#                 s[name] = 1\n",
    "#             testdf[\"headline\"][i].replace(name, \"\")\n",
    "#     for word in testdf[\"headline\"][i].split():\n",
    "#         if word in s:\n",
    "#             s[word] += 1\n",
    "#         else:\n",
    "#             s[word] = 1\n",
    "#     testdf[\"headline\"][i] = s"
   ]
  },
  {
   "cell_type": "code",
   "execution_count": 55,
   "metadata": {},
   "outputs": [],
   "source": [
    "#Removing duplicate words from headlines and counting them\n",
    "for i in range(len(articles)):\n",
    "    s = {}\n",
    "    for name in nameSet:\n",
    "        if name in articles[\"headline\"][i]:\n",
    "            if name in s:\n",
    "                s[name] += 1\n",
    "            else:\n",
    "                s[name] = 1\n",
    "            articles[\"headline\"][i].replace(name, \"\")\n",
    "    for name in locationSet:\n",
    "        if name in articles[\"headline\"][i]:\n",
    "            if name in s:\n",
    "                s[name] += 1\n",
    "            else:\n",
    "                s[name] = 1\n",
    "            articles[\"headline\"][i].replace(name, \"\")\n",
    "    for word in articles[\"headline\"][i].split():\n",
    "        word = word.replace(\"‘\", \"\")\n",
    "        word = word.replace(\"’\", \"\")\n",
    "        if word in s:\n",
    "            s[word] += 1\n",
    "        else:\n",
    "            s[word] = 1\n",
    "    articles[\"headline\"][i] = s\n",
    "articles.to_csv(\"NYTDataCleaned.csv\", encoding = \"ISO-8859-1\")"
   ]
  },
  {
   "cell_type": "code",
   "execution_count": 58,
   "metadata": {},
   "outputs": [
    {
     "data": {
      "text/plain": [
       "array([{'headline': 1}, {'headline': 1}, {'headline': 1}, {'headline': 1},\n",
       "       {'headline': 1}, {'headline': 1}, {'headline': 1}, {'headline': 1},\n",
       "       {'headline': 1}, {'headline': 1}, {'headline': 1}, {'headline': 1},\n",
       "       {'headline': 1}, {'headline': 1}, {'headline': 1}, {'headline': 1},\n",
       "       {'headline': 1}, {'headline': 1}, {'headline': 1}, {'headline': 1},\n",
       "       {'headline': 1}, {'headline': 1}, {'headline': 1}, {'headline': 1},\n",
       "       {'headline': 1}, {'headline': 1}, {'headline': 1}, {'headline': 1},\n",
       "       {'headline': 1}, {'headline': 1}, {'headline': 1}, {'headline': 1},\n",
       "       {'headline': 1}, {'headline': 1}, {'headline': 1}, {'headline': 1},\n",
       "       {'headline': 1}, {'headline': 1}, {'headline': 1}, {'headline': 1},\n",
       "       {'headline': 1}, {'headline': 1}, {'headline': 1}, {'headline': 1},\n",
       "       {'headline': 1}, {'headline': 1}, {'headline': 1}], dtype=object)"
      ]
     },
     "execution_count": 58,
     "metadata": {},
     "output_type": "execute_result"
    }
   ],
   "source": [
    "articles.headline.values"
   ]
  }
 ],
 "metadata": {
  "kernelspec": {
   "display_name": "Python 3",
   "language": "python",
   "name": "python3"
  }
 },
 "nbformat": 4,
 "nbformat_minor": 4
}
